{
  "nbformat": 4,
  "nbformat_minor": 0,
  "metadata": {
    "colab": {
      "provenance": []
    },
    "kernelspec": {
      "name": "python3",
      "display_name": "Python 3"
    },
    "language_info": {
      "name": "python"
    }
  },
  "cells": [
    {
      "cell_type": "markdown",
      "source": [
        "รหัสนักศึกษา : 67015067 ชื่อ : นาย นนทพันธ์ อินทวงศ์"
      ],
      "metadata": {
        "id": "ayuUhdui4PbN"
      }
    },
    {
      "cell_type": "markdown",
      "source": [
        "Exercise 5.1 ให้เขียน function ชื่อ day_of_year(day, month ,year) โดยมีการคืนค่า คือ day_of_years เป็นวันที่ลำดับที่เท่าใดของปีคริสตศักราช year\n",
        "ปีที่เป็น Leap Year เดือนกุมภาพันธ์จะมี 29 วัน\n",
        "ให้สร้างฟังก์ชัน is_leap เพื่อตรวจสอบ leap year แยกออกมา และให้ฟังก์ชัน day_of_year เรียกใช้ is_leap อีกที\n"
      ],
      "metadata": {
        "id": "ZXM4rXQB6Q9o"
      }
    },
    {
      "cell_type": "code",
      "source": [
        "days_in_month = [31, 28, 31, 30, 31, 30, 31, 31, 30, 31, 30, 31]\n",
        "\n",
        "def leap_year(year):\n",
        "  if (year % 400 == 0) and (year % 100 == 0):\n",
        "    return True\n",
        "\n",
        "  if (year % 4 ==0) and (year % 100 != 0):\n",
        "    return True\n",
        "\n",
        "  return False\n",
        "\n",
        "def day_of_year(day, month, year):\n",
        "  return sum(days_in_month[:month - 1]) + day\n",
        "\n",
        "# Testcases\n",
        "print(\"Normal year (2023):\")\n",
        "print(f\"1 Jan 2023: {day_of_year(1, 1, 2023)}\")  # ควรได้ 1\n",
        "print(f\"1 Feb 2023: {day_of_year(1, 2, 2023)}\")  # ควรได้ 32\n",
        "print(f\"1 Mar 2023: {day_of_year(1, 3, 2023)}\")  # ควรได้ 60\n",
        "print(f\"31 Dec 2023: {day_of_year(31, 12, 2023)}\")  # ควรได้ 365\n",
        "\n",
        "print(\"\\nLeap year (2024):\")\n",
        "print(f\"1 Jan 2024: {day_of_year(1, 1, 2024)}\")  # ควรได้ 1\n",
        "print(f\"29 Feb 2024: {day_of_year(29, 2, 2024)}\")  # ควรได้ 60\n",
        "print(f\"1 Mar 2024: {day_of_year(1, 3, 2024)}\")  # ควรได้ 61\n",
        "print(f\"31 Dec 2024: {day_of_year(31, 12, 2024)}\")  # ควรได้ 366\n",
        "\n",
        "print(\"\\nCentury year, not a leap year (1900):\")\n",
        "print(f\"1 Mar 1900: {day_of_year(1, 3, 1900)}\")  # ควรได้ 60\n",
        "\n",
        "print(\"\\nCentury year, leap year (2000):\")\n",
        "print(f\"1 Mar 2000: {day_of_year(1, 3, 2000)}\")  # ควรได้ 61\n",
        "\n",
        "print(\"\\nMid-year dates:\")\n",
        "print(f\"15 Jun 2023: {day_of_year(15, 6, 2023)}\")  # ควรได้ 166\n",
        "print(f\"15 Jun 2024: {day_of_year(15, 6, 2024)}\")  # ควรได้ 167 (Leap year)\n",
        "\n",
        "print(\"\\nLast day of each quarter:\")\n",
        "print(f\"31 Mar 2023: {day_of_year(31, 3, 2023)}\")  # ควรได้ 90\n",
        "print(f\"30 Jun 2023: {day_of_year(30, 6, 2023)}\")  # ควรได้ 181\n",
        "print(f\"30 Sep 2023: {day_of_year(30, 9, 2023)}\")  # ควรได้ 273\n",
        "print(f\"31 Dec 2023: {day_of_year(31, 12, 2023)}\")  # ควรได้ 365"
      ],
      "metadata": {
        "id": "oerlrWw46aJZ",
        "colab": {
          "base_uri": "https://localhost:8080/"
        },
        "outputId": "aa021afb-d0f3-49b3-a9d8-8ad226271bae"
      },
      "execution_count": null,
      "outputs": [
        {
          "output_type": "stream",
          "name": "stdout",
          "text": [
            "Normal year (2023):\n",
            "1 Jan 2023: 1\n",
            "1 Feb 2023: 32\n",
            "1 Mar 2023: 60\n",
            "31 Dec 2023: 365\n",
            "\n",
            "Leap year (2024):\n",
            "1 Jan 2024: 1\n",
            "29 Feb 2024: 60\n",
            "1 Mar 2024: 60\n",
            "31 Dec 2024: 365\n",
            "\n",
            "Century year, not a leap year (1900):\n",
            "1 Mar 1900: 60\n",
            "\n",
            "Century year, leap year (2000):\n",
            "1 Mar 2000: 60\n",
            "\n",
            "Mid-year dates:\n",
            "15 Jun 2023: 166\n",
            "15 Jun 2024: 166\n",
            "\n",
            "Last day of each quarter:\n",
            "31 Mar 2023: 90\n",
            "30 Jun 2023: 181\n",
            "30 Sep 2023: 273\n",
            "31 Dec 2023: 365\n"
          ]
        }
      ]
    },
    {
      "cell_type": "markdown",
      "source": [
        "Exercise 5.2 ให้เขียนฟังก์ชัน เพิ่มเติมเป็น date_diff\n",
        "รับข้อมูลในรูปแบบ “dd-mm-yyyy” เช่น date_diff(“1-1-2018”, “1-1-2020”) จะได้ 731 วัน date_diff(“25-12-1999”, “9-3-2000”) จะได้ 76 วัน\n",
        "ให้เขียนฟังก์ชัน day_in_year โดยจะส่งค่าจำนวนวันของปี (365 หรือ 366) โดยรับข้อมูลเป็น ปี\n",
        "ส่งคืนข้อมูลเป็นจำนวนวันตั้งแต่วันที่แรก จนถึงวันที่สอง โดยรวมทั้ง 2 วันนั้นเข้าไปด้วย\n",
        "ให้สมมติว่าวันแรก จะต้องมาก่อนวันที่สองเสมอ ดังนั้นไม่ต้องตรวจสอบ\n"
      ],
      "metadata": {
        "id": "fkkuNcAcCo-z"
      }
    },
    {
      "cell_type": "code",
      "source": [
        "def date_diff(date1, date2):\n",
        "  def parse_date(date_str):\n",
        "    [day, month, year] = str(date_str).split('-')\n",
        "\n",
        "    return int(day), int(month), int(year)\n",
        "\n",
        "  def is_leap(year):\n",
        "    return (year % 4 == 0 and year % 100 != 0) or (year % 400 == 0)\n",
        "\n",
        "  def days_in_month(year):\n",
        "    days = [31, 29 if is_leap(year) else 28, 31, 30, 31, 30, 31, 31, 30, 31, 30, 31]\n",
        "    return days\n",
        "\n",
        "  def days_from_start_of_year(day, month, year):\n",
        "    days = days_in_month(year)\n",
        "    return sum(days[:month - 1]) + day\n",
        "\n",
        "  def total_days(day, month, year):\n",
        "    total = 0\n",
        "    for y in range(year):\n",
        "      total += 366 if is_leap(y) else 365\n",
        "    total += days_from_start_of_year(day, month, year)\n",
        "\n",
        "    return total\n",
        "\n",
        "  day1, month1, year1 = parse_date(date1)\n",
        "  day2, month2, year2 = parse_date(date2)\n",
        "\n",
        "  days1 = total_days(day1, month1, year1)\n",
        "  days2 = total_days(day2, month2, year2)\n",
        "\n",
        "  return abs(days2 - days1) + 1\n",
        "\n",
        "# ทดสอบฟังก์ชัน\n",
        "print(date_diff(\"1-1-2018\", \"1-1-2020\"))  # ควรได้ 731\n",
        "print(date_diff(\"25-12-1999\", \"9-3-2000\"))  # ควรได้ 76\n",
        "print(date_diff(\"1-1-2000\", \"1-1-2001\"))  # ควรได้ 367 (ปี 2000 เป็น leap year)\n",
        "print(date_diff(\"1-1-2001\", \"1-1-2002\"))  # ควรได้ 366 (ปี 2001 ไม่ใช่ leap year)\n",
        "print(date_diff(\"1-3-2000\", \"1-3-2001\"))  # ควรได้ 367 (ข้ามปี leap year)\n",
        "print(date_diff(\"1-1-2023\", \"31-12-2023\"))  # ควรได้ 365 (ทั้งปี 2023)\n"
      ],
      "metadata": {
        "id": "dwNIkw0wDRjF",
        "colab": {
          "base_uri": "https://localhost:8080/"
        },
        "outputId": "a103ff68-48e8-43ff-8d18-79378c14ea7b"
      },
      "execution_count": null,
      "outputs": [
        {
          "output_type": "stream",
          "name": "stdout",
          "text": [
            "731\n",
            "76\n",
            "367\n",
            "366\n",
            "366\n",
            "365\n"
          ]
        }
      ]
    },
    {
      "cell_type": "markdown",
      "source": [
        "Exercise 5.3 จากโปรแกรม 5.2 ให้เขียนฟังก์ชัน date_diff  เพิ่มเติม โดยให้มีการตรวจสอบ\n",
        "วันที่ต้องเป็นวันที่ถูกต้องของเดือนนั้นๆ\n",
        "เดือนต้องอยู่ระหว่าง 1-12\n",
        "เดือนกุมภาพันธ์ของปีที่มี Leap Year เท่านั้นที่จะมี 29 วันได้\n",
        "หากข้อมูล Input ผิดพลาด ให้ Return -1\n"
      ],
      "metadata": {
        "id": "JU8jQcg4WDoF"
      }
    },
    {
      "cell_type": "code",
      "source": [
        "def parse_date(date_str):\n",
        "  parts = date_str.split('-')\n",
        "\n",
        "  if len(parts) != 3:\n",
        "    return -1\n",
        "\n",
        "  day, month, year = parts\n",
        "\n",
        "  if not (day.isdigit() and month.isdigit() and year.isdigit()):\n",
        "    return -1\n",
        "\n",
        "  day, month, year = int(day), int(month), int(year)\n",
        "\n",
        "  if month < 1 or month > 12:\n",
        "    return -1\n",
        "\n",
        "  days = days_in_month(year)\n",
        "  if day < 1 or day > days[month - 1]:\n",
        "    return -1\n",
        "\n",
        "  return day, month, year\n",
        "\n",
        "def is_leap(year):\n",
        "  # if (year % 400 == 0) and (year % 100 == 0):\n",
        "  #   return True\n",
        "\n",
        "  # if (year % 4 ==0) and (year % 100 != 0):\n",
        "  #   return True\n",
        "\n",
        "  # return False\n",
        "  return (year % 4 == 0 and year % 100 != 0) or (year % 400 == 0)\n",
        "\n",
        "\n",
        "def day_of_year(day, month, year):\n",
        "    return sum(days_in_month[:month - 1]) + day\n",
        "\n",
        "def days_in_month(year):\n",
        "  days = [31, 29 if is_leap(year) else 28, 31, 30, 31, 30, 31, 31, 30, 31, 30, 31]\n",
        "  return days\n",
        "\n",
        "def day_in_year(year):\n",
        "  return 366 if is_leap(year) else 365\n",
        "\n",
        "def days_from_start_of_year(day, month, year):\n",
        "  days = days_in_month(year)\n",
        "  return sum(days[:month - 1]) + day\n",
        "\n",
        "def total_days(day, month, year):\n",
        "  total = 0\n",
        "\n",
        "  for y in range(0, year):\n",
        "    total += day_in_year(y)\n",
        "\n",
        "  total += days_from_start_of_year(day, month, year)\n",
        "\n",
        "  return total\n",
        "\n",
        "def date_diff(date1, date2):\n",
        "  result1 = parse_date(date1)\n",
        "  result2 = parse_date(date2)\n",
        "\n",
        "  if result1 == -1 or result2 == -1:\n",
        "    return -1\n",
        "\n",
        "  day1, month1, year1 = result1\n",
        "  day2, month2, year2 = result2\n",
        "\n",
        "  if year1 > year2:\n",
        "    return - 1\n",
        "\n",
        "  if year1 == year2 and month1 > month2:\n",
        "    return - 1\n",
        "\n",
        "  if year1 == year2 and month1 == month2 and day1 > day2:\n",
        "    return -1\n",
        "\n",
        "  days1 = total_days(day1, month1, year1)\n",
        "  days2 = total_days(day2 + 1, month2, year2)\n",
        "\n",
        "  return abs(days2 - days1)\n",
        "\n",
        "if __name__ == \"__main__\":\n",
        "  # ทดสอบฟังก์ชัน\n",
        "  print(date_diff(\"1-1-2018\", \"1-1-2020\"))  # ควรได้ 731\n",
        "  print(date_diff(\"25-12-1999\", \"9-3-2000\"))  # ควรได้ 76\n",
        "  print(date_diff(\"1-1-2000\", \"1-1-2001\"))  # ควรได้ 367 (ปี 2000 เป็น leap year)\n",
        "  print(date_diff(\"1-1-2001\", \"1-1-2002\"))  # ควรได้ 366 (ปี 2001 ไม่ใช่ leap year)\n",
        "  print(date_diff(\"1-3-2000\", \"1-3-2001\"))  # ควรได้ 367 (ข้ามปี leap year)\n",
        "  print(date_diff(\"1-1-2023\", \"31-12-2023\"))  # ควรได้ 365 (ทั้งปี 2023)\n",
        "\n",
        "  # ทดสอบกรณีข้อมูลไม่ถูกต้อง\n",
        "  print(date_diff(\"31-4-2023\", \"1-5-2023\"))  # ควรได้ -1 (เดือนเมษายนมี 30 วัน)\n",
        "  print(date_diff(\"29-2-2023\", \"1-3-2023\"))  # ควรได้ -1 (ปี 2023 ไม่ใช่ leap year)\n",
        "  print(date_diff(\"1-13-2023\", \"1-1-2024\"))  # ควรได้ -1 (เดือนไม่ถูกต้อง)\n",
        "  print(date_diff(\"abc\", \"1-1-2024\"))  # ควรได้ -1 (รูปแบบวันที่ไม่ถูกต้อง)"
      ],
      "metadata": {
        "id": "OgqrXbFVWEML",
        "colab": {
          "base_uri": "https://localhost:8080/"
        },
        "outputId": "2b7f56ff-063b-43be-946b-f2fcef442272"
      },
      "execution_count": null,
      "outputs": [
        {
          "output_type": "stream",
          "name": "stdout",
          "text": [
            "731\n",
            "76\n",
            "367\n",
            "366\n",
            "366\n",
            "365\n",
            "-1\n",
            "-1\n",
            "-1\n",
            "-1\n"
          ]
        }
      ]
    },
    {
      "cell_type": "markdown",
      "source": [
        "1.\tปลาหมอคางดำเพศเมีย 1 ตัว เมื่ออายุครบ 2 เดือน จะสามารถสืบพันธ์ได้ โดยระยะเวลาตั้งท้องจนถึง\n",
        "วางไข่ของตัวเมียจะใช้เวลา 21 วัน และฟักในปากเพศผู้อีก 7 วัน (สามารถรวมเป็น 1 เดือนได้) โดยออกไข่ครั้งละ 300 ฟอง กำหนดให้ไข่ฟักเป็นเพศผู้และเพศเมียอย่างละครึ่ง และเมื่อวางไข่แล้วจะสามารถสืบพันธ์ต่อได้ทันที กำหนดให้ปลามีอายุ 5 ปี และปลาทั้งหมดจะตาย p% ทุก 1 เดือน จงหาว่าปลาหมอคางดำหลุดจากฟาร์ม n ตัวเป็นเพศผู้และเพศเมียอย่างละครึ่ง จงเขียนโปรแกรมรับค่า n และ p ให้แสดงผลจำนวนปลาทุก 3 เดือน เป็นเวลา 10 ปี ให้เขียนเป็นฟังก์ชัน ชื่อ simulate_fish_population()\n"
      ],
      "metadata": {
        "id": "tdBCjJzeWb2c"
      }
    },
    {
      "cell_type": "code",
      "execution_count": null,
      "metadata": {
        "id": "JmvNmVQh4C9X",
        "colab": {
          "base_uri": "https://localhost:8080/"
        },
        "outputId": "68c42db3-8c44-48e2-8bea-5792bdc1059a"
      },
      "outputs": [
        {
          "output_type": "stream",
          "name": "stdout",
          "text": [
            "month   1\t2\n",
            "month   3\t515\n",
            "month   5\t78079\n",
            "month   7\t966196498\n",
            "month   9\t12072895238181\n",
            "month  11\t149399315276038624\n",
            "month  13\t1866787502367447449600\n",
            "month  15\t23326031502837708320931840\n",
            "month  17\t288654300884716619531550720000\n",
            "month  19\t3606818681869997487916291876454400\n",
            "month  21\t45068207330307563623261668675545989120\n",
            "month  23\t557708750306487840605437195305228276072448\n",
            "month  25\t6968731570887589045673929856360384826500448256\n",
            "month  27\t87076248341707435555472487365849435631126904307712\n",
            "month  29\t1077548642840585457100258155308576468394200801795375104\n",
            "month  31\t13464280849822823146200582382011167989981718333731205283840\n",
            "month  33\t168239951717976676109891981758772329542103662778491180106645504\n",
            "month  35\t2081930895022717271604104344684005787422225257560053718872441749504\n",
            "month  37\t26014326561270539888927500260180268952878282885775618511508598836690944\n",
            "month  39\t325056279905318984410437698495696991848799421016424388992818764113466359808\n",
            "month  41\t4022497063542158431329738962600932879394503446344423318904764244695947530993664\n",
            "month  43\t50262260122517524802698028891338815606115660909836554679786131739148958093147111424\n",
            "month  45\t628040985669131150377015571903424586326779475021219507893372675053542210605390493646848\n",
            "month  47\t7771863448920450763370722990931912643470505849740166352071376276316079243559448659787513856\n",
            "month  49\t97111673703085507732597798034108487551263607546652656091700303882383465972950667445479128694784\n",
            "month  51\t1213437500100423528438331203803120572832984250339741145268183316854378455537849773231019602202329088\n",
            "month  53\t15016011326923517098683154647616182483932682035677721265616158913547684902536220690063612334475889868800\n",
            "month  55\t187629389256007566394408422471040769744569571787856477714205717247409300197260257975326451844204471676567552\n",
            "month  57\t2344481650478907361892452483758449162913056146864808669335664705595872123292304739754013237542912206700669829120\n",
            "month  59\t29012423809584010721700864494902976498079628039802569268332141405727085867721509753044415476650719675503063890657280\n",
            "month  61\t362518597096981742654725993499212268381064955631273685849865003537228288452891919783942076347794306726926343650385330174\n",
            "month  63\t4529771174022072614753726962265295761075415225223228417734995294559527646540386233667049283241784996513747063171419656420670\n",
            "month  65\t56054881484920188378626220109662816476406712829894848836921345314645000659766400153466306059492490075462820430393232056047597592\n",
            "month  67\t700421899587651796649917036717499774805615365471344304348067954691023919493497911833415083983308862181864093018409938455203841428746\n",
            "month  69\t8751967363365767415746329761548130904497875197042752038568214442923073374027940434195108475545282007217548510984069869137551418060746090\n",
            "month  71\t108303592933537256853782985367953266639004203228394241943147163311159603168608766622527792567068294137961968981865849819213820277514006400192\n",
            "month  73\t1353284607605195208398508597103977941332761765487451801606058658245168005222065847832153933731600728682159122171842218632961253441552269850443776\n",
            "month  75\t16909669337978422898664032724934346732367801237063670070944004178425632391351085701086002677102801312795664595855761462386241938743609697054289297408\n",
            "month  77\t209253287699285174582278554487263081582298140920198753044686183907438438493030298261330903544852013393883940532907156844921110133990967578185435906572288\n",
            "month  79\t2614680138155738278208266593883340994781766464133386293992540631618996560664891434699016548079684914753939844886945267110748043624049103690138181433882050560\n",
            "month  81\t32671158980396828475420195264237648100072363974195987722648978494979952109714357607756255942428037851952173490503960822570295354197026676482771187870449807654912\n",
            "month  83\t404298114466345939500614882866034237105480929957292457586293445579086434450169216778551571154130876303176209079659824875472981986039578807217675641337484616803549184\n",
            "month  85\t5051821461979262854027733695545345978672297986432147652574628239074671637820571196565133207192849550923563422428437919947018578804926720470942958644499526660146937724928\n",
            "month  87\t63123920863728392268877735749540081666955132745626506455093339807134016203869092290521571123456597597508516023925533864905288497144379405750913001887408802506187334030983168\n",
            "month  89\t781144072612824424311051912233700137051283535571644689510411766010183228672963117932603238734316137362959415265431308679327904013617026177985941868027669868380583389803648647168\n",
            "month  91\t9760620318826240320381234627766699390875763197906520039898882014236808727728699589663533003454618103662133549041290802955139630844502589444305133709174905032278828781180269931528192\n",
            "month  93\t121961678421052666283424124929558579800843974059296431858908326129422579692614314843377924093378906330574340473421573035607615778549163357412545096732671556924416194468039956163565977600\n",
            "month  95\t1509247855344479050464716914374530002751072852912404242338767890143874454750544654105891263495344618342679593843671276712612153718782026895516053656603415675954064869896651114522915477913600\n",
            "month  97\t18858486928981408081824781323306125591187416625350772384197030966747061817054517533904331251397532623687395447465648537399280554497195865139797228505843565344252746082262762191830252027113373696\n",
            "month  99\t235642064050355609962395929048036756777734989689793875283064650714890673623385066028410106427756295337682883959758663846007686832488035206833256578787128424138667558391794639643588352724486265503744\n",
            "month 101\t2916016607849140251999236718386649692661822570511212457178080648622920241312862475472936946006352644009613641483005598798433283735370213848141447848458718902333109453945946905779077544853911468177883136\n",
            "month 103\t36436467932739989676880860055289278807053967106614701989587001095900636093675029557400463058436017103526124605736372413911168926989284954597928354235366363842952506945452925311756207992087229781142822453248\n",
            "month 105\t455283848736595967713571089717686774017297375268352993310202210352040851749055732780945724609547361134988620399109066924121114922512446422228019561112771052940812445447468348084968655409804885112602331531182080\n",
            "month 107\t5634033420780445403418698706177272829257064236212914828361937739517329137105410660792264675920360069142454988974110463213399527992562215853153982545989611483362365740787664105622649281825755434339150496419366830080\n",
            "month 109\t70398871362968728481561123860945821144809645632174576211476951546596511951725038120437128038797144538542944085342060288806760016114659245389437021069322642901289029760949837957932830143056366957730190760399505866096640\n",
            "month 111\t879653570154232247047864573793197273036551800058448303604112359247658389571492161481656234236865638042531699775128720606665431463875514451940632446101083249887577816337108156284181870574780023893115785049401019674562396160\n",
            "month 113\t10885511591747828652139702349346312364683513804497636497461206188256731949668594921820784748390744138972930165414784595474176606089613528748301638969382953073579639562156977501059156257873214614406572843778267055445437078044672\n",
            "month 115\t136017604624256251476190930856983499348944420900783569802552791771769401375290015454420924975386794319878147921482222384474924479197749498375008048174400790064815197930706333828784855907296481073130314985212261575603739801434456064\n",
            "month 117\t1699577978951681852321908696739412227194783482624457171952047096366303992089713318220497151717677271869541092862497146542057957814220395277027295164661298066237025106849760681816720017097952092989010366057178314380697732297566501994496\n",
            "month 119\t21031888482774058178810964436666393954728384899422182911771664588884970991576660492787128020136209135249444307243825910431411281238047654765113745805285147346321030565860576226040796263499440986819803960806497350854163831638478810299498498\n",
            "month 120\t2362412915402380772992001939791285859896756069967780323716558942375985597108973601486591258815245235906303600444545708561572630641814595360999956847444973783250557424334829308099181363074688394096372295665277395699343284256192251612582903810\n"
          ]
        }
      ],
      "source": [
        "import math\n",
        "\n",
        "def get_fish_survive(spawn, p):\n",
        "  return int(abs(spawn - (spawn * (p /100))))\n",
        "\n",
        "def simulate_fish_population(n, p, months=3):\n",
        "  months_in_year = 12\n",
        "  years = 10\n",
        "  months_total = years * months_in_year # 120\n",
        "  death_rate = p / 100 # 0.1, 10%\n",
        "  fish_spawn = 300\n",
        "\n",
        "  total_fish = n\n",
        "  fish_populations = [[fish_spawn, 0, total_fish],\n",
        "                      [fish_spawn, get_fish_survive(fish_spawn, p), total_fish], [fish_spawn, get_fish_survive(fish_spawn, p), get_fish_survive(fish_spawn, p) + get_fish_survive(get_fish_survive(fish_spawn, p), p)\n",
        "                      + total_fish]]\n",
        "\n",
        "  for month in range(months_total):\n",
        "    if month == 0 or month == 1 or month == 2:\n",
        "      continue\n",
        "\n",
        "    # get fish from last month\n",
        "    fish_list = fish_populations[month - 1]\n",
        "    # 0 spawn\n",
        "    # 1 baby fish service\n",
        "    # 2 total_fish\n",
        "\n",
        "    spawn = fish_list[0]\n",
        "\n",
        "    # fish_total = fish_list[2]\n",
        "    # fish_total = get_fish_survive(fish_list[2]) + spawn\n",
        "    fish_total = get_fish_survive(fish_list[2], p) + get_fish_survive(fish_list[1],p)\n",
        "\n",
        "    # only female fish can spawn egg\n",
        "    spawn += get_fish_survive((fish_total // 2) * 300, p)\n",
        "\n",
        "    fish_survive = get_fish_survive(spawn, p)\n",
        "\n",
        "    # every 5 year, fish die\n",
        "    if month >= (60 - 1):\n",
        "      fish_total = fish_total - fish_populations[month - (60 - 1)][2]\n",
        "      if fish_total <= 0:\n",
        "        fish_total = 0\n",
        "\n",
        "    # every 3 month spawn egg\n",
        "    if (month > 4) and (month % 3 == 0):\n",
        "        spawn += (get_fish_survive((fish_list[1]) // 2, p)) * fish_spawn\n",
        "\n",
        "    fish_populations.append([spawn, fish_survive, fish_total])\n",
        "\n",
        "  return fish_populations\n",
        "\n",
        "# Run simulation\n",
        "n = 2  # Initial number of fish\n",
        "p = 10  # Monthly mortality rate\n",
        "\n",
        "# simulate_fish_population(n, p)\n",
        "\n",
        "# ถ้าเริ่มต้นด้วยปลา 2 ตัว ตายเดือนละ 10%\n",
        "# เดือนที่ 1 ไข่ 300 ไบ\n",
        "# เดือนที่ 2 ไข่ 300 ใบ + ลูกปลา 270 ตัว\n",
        "# เดือนที่ 3 ไข่ 300 ใบ + ลูกปลา 270 ตัว + ปลาโตเต็มวัย 243 ตัว + 2 = 515 ตัว\n",
        "\n",
        "if __name__ == \"__main__\":\n",
        "  result = simulate_fish_population(n, p)\n",
        "  # print(result)\n",
        "\n",
        "  # print(len(result))\n",
        "  for row in range(0, len(result), 2):\n",
        "  #   # print(\"month {:3}\".format(row + 1), result[row])\n",
        "    print(\"month {:3}\\t{}\".format(row + 1, result[row][2]))\n",
        "\n",
        "  # # print(\"month {:3}\".format(len(result)), result[-1])\n",
        "  print(\"month {:3}\\t{}\".format(len(result), result[-1][2]))"
      ]
    },
    {
      "cell_type": "markdown",
      "source": [
        "2.\tให้เขียน function find_mismatch ซึ่งรับ string มา 2 ค่า โดยจะส่งค่ากลับดังนี้\n",
        "- 0 เมื่อ string ทั้ง 2 ตัว เหมือนกัน โดยไม่สนใจ case\n",
        "- 1 เมื่อ string 1 จะเหมือน string 2 โดยการลบและ/หรือเพิ่มตัวอักษรเพียง 1 ตัว\n",
        "- 2 เมื่อ string ไม่เข้าเกณฑ์ 0 หรือ 1\n",
        "\n",
        "\n",
        "| String  1| \tString2\t|ผลลัพธ์|\n",
        "|----------|----------|------|\n",
        "|Python|\tJava\t|2|\n",
        "|book\t |  boot\t|1|\n",
        "|fan\t |  fun\t  |1|\n",
        "|sin\t | sink\t  |1 เพราะเพิ่ม k ใน str2 แล้วจะเหมือนกัน\n",
        "|Dog\t | dog\t  |0\n",
        "|poke\t | spoke\t|1 เพิ่ม s ใน str2 แล้วเหมือนกัน\n",
        "|poker |\tpoke\t|1 ตัด r ใน str1 ออกแล้วเหมือนกัน\n",
        "\n",
        "\n",
        "\n",
        "\n"
      ],
      "metadata": {
        "id": "F0_ZEPOYbDKf"
      }
    },
    {
      "cell_type": "code",
      "source": [
        "def is_one_char_miss(s1, s2):\n",
        "  len1, len2 = len(s1), len(s2)\n",
        "\n",
        "  if abs(len1 - len2) > 1:\n",
        "    return False\n",
        "\n",
        "  if len1 == len2:\n",
        "    diff_count = sum(1 for a, b in zip(s1, s2) if a != b)\n",
        "    return diff_count == 1\n",
        "\n",
        "  if len1 + 1 == len2:\n",
        "    for i in range(len2):\n",
        "      if s1 == s2[:i] + s2[i+1:]:\n",
        "        return True\n",
        "    return False\n",
        "\n",
        "  if len1 == len2 + 1:\n",
        "    for i in range(len1):\n",
        "      if s2 == s1[:i] + s1[i+1:]:\n",
        "        return True\n",
        "    return False\n",
        "\n",
        "  return False\n",
        "\n",
        "def find_mismatch(str1, str2):\n",
        "  s1_lower = str(str1).lower()\n",
        "  s2_lower = str(str2).lower()\n",
        "\n",
        "  if s1_lower == s2_lower:\n",
        "    return 0\n",
        "\n",
        "  if is_one_char_miss(s1_lower, s2_lower):\n",
        "    return 1\n",
        "\n",
        "  return 2\n",
        "\n",
        "if __name__ == \"__main__\":\n",
        "  print(find_mismatch('Python', 'Java'))\n",
        "  print(find_mismatch('book', 'boot'))\n",
        "  print(find_mismatch('fan', 'fun'))\n",
        "  print(find_mismatch('sin', 'sink'))\n",
        "  print(find_mismatch('Dog', 'dog'))\n",
        "  print(find_mismatch('poke', 'spoke'))\n",
        "  print(find_mismatch('poker', 'poke'))\n"
      ],
      "metadata": {
        "id": "jyVxAb-MXnz2",
        "colab": {
          "base_uri": "https://localhost:8080/"
        },
        "outputId": "5d780fed-5b19-4f75-c103-57b559f2690a"
      },
      "execution_count": 18,
      "outputs": [
        {
          "output_type": "stream",
          "name": "stdout",
          "text": [
            "2\n",
            "1\n",
            "1\n",
            "1\n",
            "0\n",
            "1\n",
            "1\n"
          ]
        }
      ]
    },
    {
      "cell_type": "markdown",
      "source": [
        "3.\tจากข้อ 1 ให้เขียนฟังก์ชันชื่อ spelling_correction โดยรับ 2 argument ตัวแรกเป็นประโยค (string) และตัวที่ 2 เป็น list ของคำ (correct_spells) โดยฟังก์ชันนี้มีหน้าที่ตรวจสอบแต่ละ word ใน input string กับคำที่อยู่ใน correct_spells โดยค่าที่คืนกลับมาจะมีดังนี้ (พยายามเรียกใช้ฟังก์ชันในข้อ 1)\n",
        "-\tถ้าคำที่อยู่ในประโยค ตรงกับคำที่อยู่ใน correct_spells ทุกอย่าง ก็จะ copy ไปที่ output string\n",
        "-\tถ้าคำที่อยู่ในประโยค ต่างจากคำที่อยู่ใน correct_spells โดยต่างกัน 1 ตัวอักษร โดยการเปลี่ยน การเพิ่ม หรือการลบ 1 ตัวอักษร คำที่อยู่ในประโยคจะถูกเปลี่ยนโดยคำที่อยู่ใน correct_spells และนำไปใส่ output string\n",
        "-\tถ้าคำที่ไม่พบในเงื่อนไขข้างต้นให้นำคำนั้นไปใส่ output string ได้เลย\n",
        "-\tคำที่ประกอบด้วย 1 หรือ 2 ตัวอักษรจะไม่ตรวจสอบ ให้นำคำนั้นไปใส่ output string ได้เลย\n",
        "-\tถ้ามี 2 คำใน correct_spells ที่ตรงตามเงื่อนไข ให้ใช้คำแรก\n",
        "-\tไม่สนใจตัวใหญ่ ตัวเล็ก\n",
        "-\tInput string จะมีได้เพียงอักษรภาษาอังกฤษเท่านั้น\n",
        "-\tในแต่ละคำจะคั่นด้วย 1 space ถ้ามี space มากกว่านั้นให้ตัดออก และตัด space จากหัวท้ายประโยค\n",
        "\n",
        "|ประโยค\t|correct_spells\t|output string |\n",
        "|-------|---------------|-------------|\n",
        "|Thes is the Firs cas\t|[‘that’,’first’,’case’,’car’]|\tthes is the first car|\n",
        "|programming is fan and easy\t|[‘programming’,’this’,’fun’,’easy’,book’]\t|programming is fun and easy|\n",
        "|Thes is vary essy\t|[‘this’,’is’,’very’,’easy’]\t|this is very easy|\n",
        "|Wee ipve Pythen\t|[‘we’,’live’,’ln’,’Python’]\t|we live python|\n",
        "\n",
        "\n"
      ],
      "metadata": {
        "id": "jzXp83HSbMh9"
      }
    },
    {
      "cell_type": "code",
      "source": [
        "def edit_distance(word1, word2):\n",
        "  len1, len2 = len(word1), len(word2)\n",
        "\n",
        "  if abs(len1 - len2) > 1:\n",
        "    return float('inf')\n",
        "\n",
        "  matrix = [[0] * (len2 + 1) for _ in range(len1 + 1)]\n",
        "  for i in range(len1 + 1):\n",
        "    matrix[i][0] = i\n",
        "  for j in range(len2 + 1):\n",
        "    matrix[0][j] = j\n",
        "\n",
        "  for i in range(1, len1 + 1):\n",
        "    for j in range(1, len2 + 1):\n",
        "      cost = 0 if word1[i - 1] == word2[j - 1] else 1\n",
        "      matrix[i][j] = min(matrix[i - 1][j] + 1, matrix[i][j - 1] + 1, matrix[i - 1][j - 1] + cost)\n",
        "\n",
        "  return matrix[len1][len2]\n",
        "\n",
        "def spelling_correction(input_string, correct_spells):\n",
        "  input_string = ' '.join(input_string.split())\n",
        "  words = input_string.lower().split()\n",
        "  corrected_words = []\n",
        "\n",
        "  for word in words:\n",
        "    if len(word) <= 2:\n",
        "      corrected_words.append(word)\n",
        "      continue\n",
        "\n",
        "    if word in correct_spells:\n",
        "      corrected_words.append(word)\n",
        "      continue\n",
        "\n",
        "    found_correction = False\n",
        "\n",
        "    for correct_word in correct_spells:\n",
        "      if edit_distance(word, correct_word.lower()) == 1:\n",
        "        corrected_words.append(correct_word.lower())\n",
        "        found_correction = True\n",
        "        break\n",
        "\n",
        "    if not found_correction:\n",
        "      corrected_words.append(word.lower())\n",
        "\n",
        "  # print('->', corrected_words)\n",
        "  return ' '.join(corrected_words)\n",
        "\n",
        "if __name__ == \"__main__\":\n",
        "  print(spelling_correction('Thes is the Firs cas', ['that','first','case','car']))\n",
        "print(spelling_correction('programming is fan and easy', ['programming','this','fun','easy','book']))\n",
        "print(spelling_correction('Thes is vary essy', ['this','is','very','easy']))\n",
        "print(spelling_correction('Wee ipve Pythen', ['we','live','ln','Python']))"
      ],
      "metadata": {
        "id": "4NW0Y1hXpfCt",
        "colab": {
          "base_uri": "https://localhost:8080/"
        },
        "outputId": "f4d063ab-1bf1-453c-d999-e6bdbe3a584a"
      },
      "execution_count": 3,
      "outputs": [
        {
          "output_type": "stream",
          "name": "stdout",
          "text": [
            "thes is the first case\n",
            "programming is fun and easy\n",
            "this is very easy\n",
            "we ipve python\n"
          ]
        }
      ]
    },
    {
      "cell_type": "markdown",
      "source": [
        "4. ให้เขียนฟังก์ชัน find_word_horizontal ซึ่งจะรับ list ขนาด 2 มิติ ของตัวอักษร (คล้ายกับเกม cross word) และ word ซึ่งเป็น string เป็น argument โดยฟังก์ชันนี้ จะค้นหาตามแถวของ list เพื่อหาตำแหน่งที่มีอักษรตรงกับคำใน word ถ้าพบ จะส่งคืน row index และ column index ของตัวอักษรแรก ถ้าไม่พบจะส่งคืน None\n",
        "\n",
        "```\n",
        "crosswords=[['s','d','o','g'],\n",
        "            ['c','u','c','m'],\n",
        "            ['a','c','a','t'],\n",
        "            ['t',' e','t','k']]\n",
        "\tword='cat'\n",
        "\tfind_word_horizontal(crosswords,word)\n",
        "```\n",
        "\n",
        "Output\n",
        "   [2,1]\n"
      ],
      "metadata": {
        "id": "sshYZJYZpfua"
      }
    },
    {
      "cell_type": "code",
      "source": [
        "def find_word_horizontal(crosswords, word):\n",
        "  rows = len(crosswords)\n",
        "  cols = 0\n",
        "  if rows > 0:\n",
        "    cols = len(crosswords[0])\n",
        "  else:\n",
        "    cols = 0\n",
        "\n",
        "  for r in range(rows):\n",
        "    row_str = ''.join(crosswords[r])\n",
        "    col = row_str.find(word)\n",
        "    if col != -1:\n",
        "      return [r, col]\n",
        "\n",
        "  return None\n",
        "\n",
        "if __name__ == '__main__':\n",
        "  crosswords=[['s','d','o','g'],\n",
        "            ['c','u','c','m'],\n",
        "            ['a','c','a','t'],\n",
        "            ['t',' e','t','k']]\n",
        "  word='cat'\n",
        "\n",
        "  print(find_word_horizontal(crosswords,word))"
      ],
      "metadata": {
        "id": "2z0nonPMqZ_Q",
        "colab": {
          "base_uri": "https://localhost:8080/"
        },
        "outputId": "241f31ee-242b-405a-d954-6d71b8d97fb9"
      },
      "execution_count": 8,
      "outputs": [
        {
          "output_type": "stream",
          "name": "stdout",
          "text": [
            "[2, 1]\n"
          ]
        }
      ]
    },
    {
      "cell_type": "markdown",
      "source": [
        "5. ให้เขียนฟังก์ชัน find_word_vertical ซึ่งจะรับ list ขนาด 2 มิติ ของตัวอักษร (คล้ายกับเกม cross word) และ word ซึ่งเป็น string เป็น argument โดยฟังก์ชันนี้ จะค้นหาตามคอลัมน์ของ list เพื่อหาตำแหน่งที่มีอักษรตรงกับคำใน word ถ้าพบ จะส่งคืน row index และ column index ของตัวอักษรแรก ถ้าไม่พบจะส่งคืน None\n",
        "\n",
        "ตัวอย่าง\n",
        "```\n",
        "\tcrosswords=[['s','d','o','g'],\n",
        "              ['c','u','c','m'],\n",
        "              ['a','c','a','t'],\n",
        "              ['t',' e','t','k']]\n",
        "\tword='cat'\n",
        "\tfind_word_vertical(crosswords,word)\n",
        "```\n",
        "\n",
        "Output\n",
        "   [1,0]\n"
      ],
      "metadata": {
        "id": "sDhGHMPsqr6a"
      }
    },
    {
      "cell_type": "code",
      "source": [
        "def find_word_vertical(crosswords, word):\n",
        "  if len(word) < 1:\n",
        "    return None\n",
        "\n",
        "\n",
        "  first_char = word[0]\n",
        "  for col in range(len(crosswords)):\n",
        "    for row in range(len(crosswords[col])):\n",
        "      w = crosswords[col][row]\n",
        "      if first_char == w:\n",
        "        return [col, row]\n",
        "\n",
        "\n",
        "  return None\n",
        "\n",
        "if __name__ == \"__main__\":\n",
        "  crosswords=[['s','d','o','g'],\n",
        "              ['c','u','c','m'],\n",
        "              ['a','c','a','t'],\n",
        "              ['t','e','t','k']]\n",
        "\n",
        "  print(find_word_vertical(crosswords, 'cat'))"
      ],
      "metadata": {
        "id": "R5Jp1CkQrEz9",
        "colab": {
          "base_uri": "https://localhost:8080/"
        },
        "outputId": "ad6c88bf-75c1-498b-e94b-aa1b5e89baab"
      },
      "execution_count": null,
      "outputs": [
        {
          "output_type": "stream",
          "name": "stdout",
          "text": [
            "[2, 3]\n"
          ]
        }
      ]
    },
    {
      "cell_type": "markdown",
      "source": [
        "6.\tให้เขียนฟังก์ชัน capitalize_word_in_crossword จะรับ list ขนาด 2 มิติ ของตัวอักษร (คล้ายกับเกม cross word) และ word ซึ่งเป็น string เป็น argument โดยฟังก์ชันนี้ จะค้นหาตาม row และ column ของ list เพื่อหาตำแหน่งที่มีอักษรตรงกับคำใน word ถ้าพบจะเปลี่ยนเป็นตัวใหญ่และ และส่งคืน list ที่แก้ไขแล้ว แต่ถ้าไม่เจอจะส่ง list เดิมกลับมา ให้ใช้ฟังก์ชันตามข้อ 3 และ 4 ช่วย\n",
        "\n",
        "```\n",
        "crosswords=[['s','d','o','g'],\n",
        "            ['c','u','c','m'],\n",
        "            ['a','x','a','t'],\n",
        "            ['t','e','t','k']]\n",
        "word='cat'\n",
        "capitalize_word_in_crossword(crosswords,word)\n",
        "```\n",
        "จะส่งค่ากลับ\n",
        "```\n",
        " [['s','d','o','g'],\n",
        "  ['C','u','c','m'],\n",
        "  ['A','x','a','t'],\n",
        "  ['T','e','t','k']]\n",
        "```\n",
        "```\n",
        "crosswords=[['s','d','o','g'],\n",
        "            ['c','u','c','m'],\n",
        "            ['a','c','a','t'],\n",
        "            ['t','e','t','k']]\n",
        "word='cat'\n",
        "capitalize_word_in_crossword(crosswords,word)\n",
        "จะส่งค่ากลับ                   \n",
        "[['s','d','o','g'],\n",
        " ['c','u','c','m'],\n",
        " ['a','C','A','T'],\n",
        " ['t','e','t','k']]\n",
        "```\n",
        "\n",
        "\n"
      ],
      "metadata": {
        "id": "dinoUBQTrDFp"
      }
    },
    {
      "cell_type": "code",
      "source": [
        "def capitalize_word_in_crossword(crosswords, word):\n",
        "  rows = len(crosswords)\n",
        "  cols = len(crosswords[0])\n",
        "\n",
        "  word_length = len(word)\n",
        "\n",
        "  def capitalize_in_row(r, start_col):\n",
        "    for i in range(word_length):\n",
        "      crosswords[r][start_col + i] = crosswords[r][start_col + i].upper()\n",
        "\n",
        "  def capitalize_in_column(c, start_row):\n",
        "    for i in range(word_length):\n",
        "      crosswords[start_row + i][c] = crosswords[start_row + i][c].upper()\n",
        "\n",
        "  for r in range(rows):\n",
        "    row_str = ''.join(crosswords[r])\n",
        "    start_index = row_str.find(word)\n",
        "    if start_index != -1:\n",
        "      capitalize_in_row(r, start_index)\n",
        "\n",
        "  for c in range(cols):\n",
        "    col_str = ''.join(crosswords[r][c] for r in range(rows))\n",
        "    start_index = col_str.find(word)\n",
        "    if start_index != -1:\n",
        "      capitalize_in_column(c, start_index)\n",
        "\n",
        "\n",
        "  return crosswords\n",
        "\n",
        "if __name__ == \"__main__\":\n",
        "  crosswords=[['s','d','o','g'],\n",
        "            ['c','u','c','m'],\n",
        "            ['a','c','a','t'],\n",
        "            ['t','e','t','k']]\n",
        "\n",
        "  result = capitalize_word_in_crossword(crosswords, 'cat')\n",
        "  for row in result:\n",
        "    print(row)\n"
      ],
      "metadata": {
        "id": "IM99mZNs0css",
        "colab": {
          "base_uri": "https://localhost:8080/"
        },
        "outputId": "d1b14841-5587-4375-d30b-013da9cee545"
      },
      "execution_count": null,
      "outputs": [
        {
          "output_type": "stream",
          "name": "stdout",
          "text": [
            "['s', 'd', 'o', 'g']\n",
            "['C', 'u', 'c', 'm']\n",
            "['A', 'C', 'A', 'T']\n",
            "['T', 'e', 't', 'k']\n"
          ]
        }
      ]
    }
  ]
}