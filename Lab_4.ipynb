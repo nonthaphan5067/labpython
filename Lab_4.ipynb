{
  "nbformat": 4,
  "nbformat_minor": 0,
  "metadata": {
    "colab": {
      "provenance": []
    },
    "kernelspec": {
      "name": "python3",
      "display_name": "Python 3"
    },
    "language_info": {
      "name": "python"
    }
  },
  "cells": [
    {
      "cell_type": "markdown",
      "source": [
        "4.1 2520 คือ ตัวเลขที่น้อยที่สุด ที่สามารถหารด้วยตัวเลขทุกตัวตั้งแต่ 1-10 จงหาจำนวนเต็มบวกที่น้อยที่สุดที่หารด้วยตัวเลขทุกตัวตั้งแต่ 1-20\n",
        "\n",
        "15 = 360360\n",
        "\n",
        "20 = 232792560\n",
        "\n",
        "ปล. ห้าม import math"
      ],
      "metadata": {
        "id": "-bpz7hteQPdz"
      }
    },
    {
      "cell_type": "code",
      "execution_count": null,
      "metadata": {
        "id": "HSZUXcF2QMVn",
        "colab": {
          "base_uri": "https://localhost:8080/"
        },
        "outputId": "c6c0c7ad-55d1-4078-8fee-200aa427c360"
      },
      "outputs": [
        {
          "output_type": "stream",
          "name": "stdout",
          "text": [
            "232792560\n"
          ]
        }
      ],
      "source": [
        "while 1:\n",
        "  current_lcm = 1\n",
        "\n",
        "  for number in range(1, 21):\n",
        "    n = number\n",
        "    gcd = current_lcm\n",
        "\n",
        "    while n != 0:\n",
        "      gcd, n = n, gcd % n\n",
        "\n",
        "    current_lcm = abs(current_lcm * number) // gcd\n",
        "\n",
        "  print(current_lcm)\n",
        "  break"
      ]
    },
    {
      "cell_type": "markdown",
      "source": [
        "4.2 จำนวนเฉพาะ (Prime Number) คือตัวเลขที่มีแต่ 1 กับตัวมันเองที่หารลงตัว โดยจำนวนเฉพาะ 6 ตัวแรกคือ 2, 3, 5, 7, 11, 13 โดยจำนวนเฉพาะตัวที่ 6 คือ 13 จงหาจำนวนเฉพาะตัวที่ 101\n",
        "\n",
        "=> 547"
      ],
      "metadata": {
        "id": "Wq1EFYHUWNOA"
      }
    },
    {
      "cell_type": "code",
      "source": [
        "while 1:\n",
        "  i = 0\n",
        "  num = 2\n",
        "\n",
        "  while 1:\n",
        "    if i >= 101:\n",
        "      break\n",
        "\n",
        "    prime = True\n",
        "    for j in range(2,num):\n",
        "      if num % j == 0:\n",
        "        prime = False\n",
        "\n",
        "    if prime:\n",
        "      prime = num\n",
        "      i += 1\n",
        "\n",
        "    num += 1\n",
        "\n",
        "  print(prime)\n",
        "  break"
      ],
      "metadata": {
        "colab": {
          "base_uri": "https://localhost:8080/"
        },
        "id": "cpMa6Vp0Vz_L",
        "outputId": "fe079eb0-2e38-4848-f915-9af097c1cc03"
      },
      "execution_count": null,
      "outputs": [
        {
          "output_type": "stream",
          "name": "stdout",
          "text": [
            "547\n"
          ]
        }
      ]
    },
    {
      "cell_type": "markdown",
      "source": [
        "1.\tกำหนดให้มี List หนึ่งประกอบด้วยตัวเลขจำนวนหนึ่ง และ ให้รับตัวเลขจำนวน 1 จำนวน จากนั้นให้หาว่าใน List มีตัวเลข 2 จำนวนใดที่บวกกันเท่ากับตัวเลขที่รับมา ให้แสดงคำตอบเป็น List เช่น Output: [0,1] โดยอาจมีมากกว่า 1 คำตอบ\n",
        "\n",
        "ตัวอย่าง list : [2, 7, 11, 15]\n",
        "\n",
        "Input : 9\n",
        "\n",
        "Output : 2 + 7 = 9 (ถ้าไม่มีให้บอก None)\n"
      ],
      "metadata": {
        "id": "-pUpw-m_WqFG"
      }
    },
    {
      "cell_type": "code",
      "source": [
        "while 1:\n",
        "  nums = [2, 7, 11, 15]\n",
        "\n",
        "  n = str(input())\n",
        "  if not n.isdecimal():\n",
        "    break\n",
        "\n",
        "  n = int(n)\n",
        "\n",
        "  pairs = []\n",
        "  for i in range(len(nums)):\n",
        "    for j in range(i + 1, len(nums)):\n",
        "      if nums[i] + nums[j] == n:\n",
        "          pairs.append([i, j])\n",
        "\n",
        "  result = pairs if pairs else None\n",
        "\n",
        "\n",
        "  if result:\n",
        "    for pair in result:\n",
        "      print(f\"{nums[pair[0]]} + {nums[pair[1]]} = {n}\")\n",
        "  else:\n",
        "    print(\"None\")\n",
        "\n",
        "\n",
        "  break"
      ],
      "metadata": {
        "id": "s3djwBi4ks1g",
        "colab": {
          "base_uri": "https://localhost:8080/"
        },
        "outputId": "5c747089-7942-4b93-faa4-afece0b274ca"
      },
      "execution_count": 6,
      "outputs": [
        {
          "output_type": "stream",
          "name": "stdout",
          "text": [
            "9\n",
            "2 + 7 = 9\n"
          ]
        }
      ]
    },
    {
      "cell_type": "markdown",
      "source": [
        "2.\tให้เขียนโปรแกรมรับข้อมูล 1 บรรทัด ประกอบด้วยตัวเลข 1 หลัก จำนวนไม่เกิน 10 ตัว คั่นด้วยช่องว่าง จากนั้นให้นำตัวเลขที่รับเข้ามาเรียงกัน และหาลำดับการเรียงที่ทำให้มีค่าน้อยที่สุด โดยต้องไม่ขึ้นต้นด้วย 0\n",
        "\n",
        "Input : 9 4 6 2  \n",
        "\n",
        "คำตอบ 2469\n",
        "\n",
        "Input : 3 0 8 1 3 3\n",
        "\n",
        "คำตอบ : 103338\n"
      ],
      "metadata": {
        "id": "_3yLG291lSFy"
      }
    },
    {
      "cell_type": "code",
      "source": [
        "while 1:\n",
        "  nums = input().split()\n",
        "\n",
        "  nums = sorted(nums)\n",
        "  if nums[0] == '0':\n",
        "    for i in range(1, len(nums)):\n",
        "      if nums[i] != '0':\n",
        "        nums[0], nums[i] = nums[i], '0'\n",
        "        break\n",
        "\n",
        "  print(''.join(nums))\n",
        "  break"
      ],
      "metadata": {
        "id": "ACtXvMEyli0L",
        "colab": {
          "base_uri": "https://localhost:8080/"
        },
        "outputId": "8a885c9e-6ad5-48bd-d54c-963f6a13fd4b"
      },
      "execution_count": 8,
      "outputs": [
        {
          "output_type": "stream",
          "name": "stdout",
          "text": [
            "3 0 8 1 3 3\n",
            "103338\n"
          ]
        }
      ]
    },
    {
      "cell_type": "markdown",
      "source": [
        "3.\tจากตัวเลขต่อไปนี้ ตัวเลขติดกัน 4 ตัวที่เมื่อนำมาคูณกันแล้วมีค่ามากที่สุดคือ 9 × 9 × 8 × 9 = 5832\n",
        "\n",
        "73167176531330624919225119674426574742355349194934\n",
        "96983520312774506326239578318016984801869478851843\n",
        "85861560789112949495459501737958331952853208805511\n",
        "12540698747158523863050715693290963295227443043557\n",
        "66896648950445244523161731856403098711121722383113\n",
        "62229893423380308135336276614282806444486645238749\n",
        "30358907296290491560440772390713810515859307960866\n",
        "70172427121883998797908792274921901699720888093776\n",
        "65727333001053367881220235421809751254540594752243\n",
        "52584907711670556013604839586446706324415722155397\n",
        "53697817977846174064955149290862569321978468622482\n",
        "83972241375657056057490261407972968652414535100474\n",
        "82166370484403199890008895243450658541227588666881\n",
        "16427171479924442928230863465674813919123162824586\n",
        "17866458359124566529476545682848912883142607690042\n",
        "24219022671055626321111109370544217506941658960408\n",
        "07198403850962455444362981230987879927244284909188\n",
        "84580156166097919133875499200524063689912560717606\n",
        "05886116467109405077541002256983155200055935729725\n",
        "71636269561882670428252483600823257530420752963450\n",
        "\n",
        "จงหาเลขติดกัน 8 ตัวที่เมื่อนำมาคูณกันแล้วมีค่ามากที่สุด และเป็นเลขอะไร ผลคูณเท่ากับเท่าไร\n",
        "\n",
        "The maximum product is: 7838208\n",
        "The digits are: 88399879\n",
        "\n",
        "\n",
        "\n"
      ],
      "metadata": {
        "id": "Gv8aIY7dliSY"
      }
    },
    {
      "cell_type": "code",
      "source": [
        "while 1:\n",
        "  number_str = (\"73167176531330624919225119674426574742355349194934\"\n",
        "              \"96983520312774506326239578318016984801869478851843\"\n",
        "              \"85861560789112949495459501737958331952853208805511\"\n",
        "              \"12540698747158523863050715693290963295227443043557\"\n",
        "              \"66896648950445244523161731856403098711121722383113\"\n",
        "              \"62229893423380308135336276614282806444486645238749\"\n",
        "              \"30358907296290491560440772390713810515859307960866\"\n",
        "              \"70172427121883998797908792274921901699720888093776\"\n",
        "              \"65727333001053367881220235421809751254540594752243\"\n",
        "              \"52584907711670556013604839586446706324415722155397\"\n",
        "              \"53697817977846174064955149290862569321978468622482\"\n",
        "              \"83972241375657056057490261407972968652414535100474\"\n",
        "              \"82166370484403199890008895243450658541227588666881\"\n",
        "              \"16427171479924442928230863465674813919123162824586\"\n",
        "              \"17866458359124566529476545682848912883142607690042\"\n",
        "              \"24219022671055626321111109370544217506941658960408\"\n",
        "              \"07198403850962455444362981230987879927244284909188\"\n",
        "              \"84580156166097919133875499200524063689912560717606\"\n",
        "              \"05886116467109405077541002256983155200055935729725\"\n",
        "              \"71636269561882670428252483600823257530420752963450\")\n",
        "  str_length = 8\n",
        "  max_product = 0\n",
        "  max_digits = \"\"\n",
        "\n",
        "  for i in range(len(number_str) - str_length + 1):\n",
        "    digits = number_str[i:i + str_length]\n",
        "    product = 1\n",
        "    for digit in digits:\n",
        "      product *= int(digit)\n",
        "    if product > max_product:\n",
        "      max_product = product\n",
        "      max_digits = digits\n",
        "\n",
        "  print(f\"The maximum product is: {max_product} The digits are: {max_digits}\")\n",
        "  break"
      ],
      "metadata": {
        "id": "wvVqGMknmBu5",
        "colab": {
          "base_uri": "https://localhost:8080/"
        },
        "outputId": "3c0a6f8a-718b-4827-f07a-4faefcfea7c6"
      },
      "execution_count": 9,
      "outputs": [
        {
          "output_type": "stream",
          "name": "stdout",
          "text": [
            "The maximum product is: 7838208 The digits are: 88399879\n"
          ]
        }
      ]
    },
    {
      "cell_type": "markdown",
      "source": [
        "4.\tตัวเลข palindrome คือตัวเลขที่อ่านได้ทั้ง 2 ทาง แล้วมีค่าเท่ากัน เช่น 9009 โดย 9009 คือ palindrome ที่เกิดจากการคูณของตัวเลข 2 หลักที่มากที่สุด คือ 91x99 จงหา palindrome ที่มากที่สุดของตัวเลข 3 หลัก\n",
        "\n",
        "The largest palindrome product of 3-digit numbers is: 906609\n"
      ],
      "metadata": {
        "id": "fjy5LNC7m0We"
      }
    },
    {
      "cell_type": "code",
      "source": [
        "while 1:\n",
        "  max_palindrome = 0\n",
        "  for i in range(999, 99, -1):\n",
        "    for j in range(i, 99, -1):\n",
        "      product = i * j\n",
        "      if str(product) == str(product)[::-1] and product > max_palindrome:\n",
        "        max_palindrome = product\n",
        "\n",
        "  print(f\"The largest palindrome product of 3-digit numbers is: {max_palindrome}\")\n",
        "  break"
      ],
      "metadata": {
        "id": "y-QY3hzVmsud",
        "colab": {
          "base_uri": "https://localhost:8080/"
        },
        "outputId": "f065fdee-6397-451c-a4ca-08f575d5710e"
      },
      "execution_count": 10,
      "outputs": [
        {
          "output_type": "stream",
          "name": "stdout",
          "text": [
            "The largest palindrome product of 3-digit numbers is: 906609\n"
          ]
        }
      ]
    },
    {
      "cell_type": "markdown",
      "source": [
        "5.\tกำหนดให้ string มีเพียงสัญลักษณ์ '(', ')', '{', '}', '[' และ ']' ให้ตรวจสอบว่า String ถูกต้อง โดย เมื่อมีวงเล็บเปิด จะต้องมีวงเล็บปิดที่เป็นชนิดเดียวกัน จำนวนเท่ากันที่เป็นคู่ของมัน\n",
        "\n",
        "```\n",
        "Input: s = \"()\"\n",
        "Output: true\n",
        "Input: s = \"()[]{}\"\n",
        "Output: true\n",
        "Input: s = \"[()]{}\"\n",
        "Output: true\n",
        "Input: s = \"(]\"\n",
        "Output: false\n",
        "```\n",
        "\n",
        "\n"
      ],
      "metadata": {
        "id": "rUZvLJ-JnGJY"
      }
    },
    {
      "cell_type": "code",
      "source": [
        "while 1:\n",
        "  s = str(input())\n",
        "\n",
        "  stack = []\n",
        "  is_valid = True\n",
        "\n",
        "  for char in s:\n",
        "    if char in \"({[\":\n",
        "      stack.append(char)\n",
        "    else:\n",
        "      if not stack:\n",
        "        is_valid = False\n",
        "        break\n",
        "      top_element = stack.pop()\n",
        "      if (char == ')' and top_element != '(') or \\\n",
        "          (char == '}' and top_element != '{') or \\\n",
        "          (char == ']' and top_element != '['):\n",
        "          is_valid = False\n",
        "          break\n",
        "\n",
        "  if stack:\n",
        "    is_valid = False\n",
        "\n",
        "  if is_valid:\n",
        "    print(True)\n",
        "  else:\n",
        "    print(False)\n",
        "    break\n",
        ""
      ],
      "metadata": {
        "id": "Ku8ts4x7nk1y",
        "colab": {
          "base_uri": "https://localhost:8080/"
        },
        "outputId": "d53ba8bf-b823-4adc-8dfa-6b938a1c6c16"
      },
      "execution_count": 26,
      "outputs": [
        {
          "output_type": "stream",
          "name": "stdout",
          "text": [
            "()\n",
            "True\n",
            "()[]{}\n",
            "True\n",
            "[()]{}\n",
            "True\n",
            "(]\n",
            "False\n"
          ]
        }
      ]
    },
    {
      "cell_type": "markdown",
      "source": [
        "6.\tกำหนดให้รับข้อมูล Integer (เป็นบวกหรือลบก็ได้) จากนั้นให้แสดงผลลัพธ์ที่ reverse ตัวเลขตามตัวอย่าง\n",
        "\n",
        "```\n",
        "Input: x = 123\n",
        "Output: 321\n",
        "Input: x = -123\n",
        "Output: -321\n",
        "Input: x = 120\n",
        "Output: 21\n",
        "```\n",
        "\n"
      ],
      "metadata": {
        "id": "PLL9Wdqqnx7o"
      }
    },
    {
      "cell_type": "code",
      "source": [
        "while 1:\n",
        "  n = str(input())\n",
        "  if not n.lstrip('-').isdigit():\n",
        "    print('num only')\n",
        "    break\n",
        "\n",
        "  if str(n) == \"-0\":\n",
        "    print(str(n))\n",
        "    break\n",
        "\n",
        "  n = int(n)\n",
        "  if n < 0:\n",
        "    print('-' + str(int(str(abs(n))[::-1])))\n",
        "  else:\n",
        "    print(int(str(abs(n))[::-1]))\n",
        "  break\n"
      ],
      "metadata": {
        "colab": {
          "base_uri": "https://localhost:8080/"
        },
        "id": "n-RWtTBnn9XL",
        "outputId": "11129db6-c723-4e41-9e7e-8f853a1e521b"
      },
      "execution_count": null,
      "outputs": [
        {
          "output_type": "stream",
          "name": "stdout",
          "text": [
            "-012\n",
            "-21\n"
          ]
        }
      ]
    },
    {
      "cell_type": "markdown",
      "source": [
        "7.\tเขียนโปรแกรมเพื่อแสดงปิรามิดบนจอภาพ โดยแสดงเป็นรูปสี่เหลี่ยม ตัวเลขเริ่มจาก 0  และเพิ่มค่าตามลําดับจํานวนขั้น จาก 0 ถึง N (รับค่า N จากคีย์บอร์ด) ค่าของ N อยู่ระหว่าง 0-9 ดังตัวอย่าง\n",
        "\n",
        "\n",
        "```\n",
        "\t\t\t\t\t\t\t\t\t         0000000\n",
        "\t\t\t\t\t\t\t    00000\t\t0111110\n",
        "\t\t\t\t\t000\t\t 01110\t\t0122210\n",
        "\t\t\t0\t\t010\t\t01210\t\t0123210\n",
        "\t\t\t\t\t000\t\t 01110\t\t0122210\n",
        "\t\t\t\t\t\t\t    00000\t\t0111110\n",
        "\t\t\t\t\t\t\t\t\t         0000000\n",
        "\n",
        "\t\t\tn=0\t\tn=1\t\tn=2\t\tn=3\n",
        "\n",
        "```\n",
        "\n"
      ],
      "metadata": {
        "id": "KboD6c8rn52a"
      }
    },
    {
      "cell_type": "code",
      "source": [
        "while 1:\n",
        "  n = str(input())\n",
        "  if not n.isdecimal():\n",
        "    break\n",
        "\n",
        "  n = int(n)\n",
        "  if n == 0:\n",
        "    print(0)\n",
        "    break\n",
        "\n",
        "  width = 2 * n + 1\n",
        "  height = 2 * n + 1\n",
        "  pyramid = []\n",
        "\n",
        "  for i in range(n + 1):\n",
        "    line = []\n",
        "    line.extend(['0'] * (n - i))\n",
        "    line.extend([str(j) for j in range(i + 1)])\n",
        "    line.extend([str(j) for j in range(i - 1, -1, -1)])\n",
        "    line.extend(['0'] * (n - i))\n",
        "    pyramid.append(''.join(line).center(width * 2))\n",
        "\n",
        "  pyramid += pyramid[:-1][::-1]\n",
        "\n",
        "  for line in pyramid:\n",
        "      print(line)\n",
        "\n",
        "  break"
      ],
      "metadata": {
        "id": "sGhw6Iyfobiz",
        "colab": {
          "base_uri": "https://localhost:8080/"
        },
        "outputId": "13bfe32e-5806-4b59-c1d7-2486396348b9"
      },
      "execution_count": 37,
      "outputs": [
        {
          "output_type": "stream",
          "name": "stdout",
          "text": [
            "3\n",
            "   0000000    \n",
            "   0001000    \n",
            "   0012100    \n",
            "   0123210    \n",
            "   0012100    \n",
            "   0001000    \n",
            "   0000000    \n"
          ]
        }
      ]
    },
    {
      "cell_type": "markdown",
      "source": [
        "8.\tเขียนโปรแกรมเพื่อแสดงปิรามิดบนจอภาพ โดยแสดงเป็นรูปสี่เหลี่ยม ตัวเลขเริ่มจาก 0  และเพิ่มค่าตามลําดับจํานวนขั้น จาก 0 ถึง N (รับค่า N จากคีย์บอร์ด) กําหนดให้จุดศูนย์กลางของรูปสี่เหลี่ยมอยู่ที่แถว 13 คอลัมน์ 40 ของจอภาพค่าของ N อยู่ระหว่าง 0-9 ดังตัวอย่าง\n",
        "\n",
        "\n",
        "\n",
        "```\n",
        "\t\t\t\t\t\t\t\t\t            0\n",
        "\t\t\t\t\t\t\t      0\t\t    010\n",
        "\t\t\t\t\t  0\t\t  010\t\t  01210\n",
        "\t\t\t0\t\t010\t\t01210\t\t0123210\n",
        "\t\t\t\t\t  0\t\t  010\t\t  01210\n",
        "\t\t\t\t\t\t\t      0\t\t    010\n",
        "\t\t\t\t\t\t\t\t\t            0\n",
        "\n",
        "\t\t\tn=0\t\tn=1\t\tn=2\t\tn=3\n",
        "\n",
        "```\n",
        "\n"
      ],
      "metadata": {
        "id": "ecRYU6Lkob6Q"
      }
    },
    {
      "cell_type": "code",
      "source": [
        "ROW_CENTER = 13\n",
        "COLUMN_CENTER = 40\n",
        "\n",
        "while 1:\n",
        "  n = str(input())\n",
        "  if not n.isdigit():\n",
        "    print('num only')\n",
        "    break\n",
        "\n",
        "  n = int(n)\n",
        "  if n < 0:\n",
        "    break\n",
        "  if n > 9:\n",
        "    break\n",
        "\n",
        "  pattern_list = []\n",
        "\n",
        "  for i in range(n + 1):\n",
        "    left_side = \"\".join([str(n) for n in range(i)])\n",
        "    rift_side = \"\".join([str(n) for n in range(i, -1, -1)])\n",
        "\n",
        "    pattern_list.append('{}{}'.format(left_side, rift_side  ))\n",
        "\n",
        "  print('\\n' * (13 - n - 1), end='')\n",
        "\n",
        "  for i in range(n + 1):\n",
        "    print(\"{:{align}{width}}\".format(pattern_list[i], align='^', width=str(COLUMN_CENTER)))\n",
        "  for i in range(n - 1, -1, -1):\n",
        "    print(\"{:{align}{width}}\".format(pattern_list[i], align='^', width=str(COLUMN_CENTER)))\n",
        "\n",
        "\n",
        "  print('\\n' * (13 - n - 1), end='')\n",
        "  break\n",
        "\n"
      ],
      "metadata": {
        "colab": {
          "base_uri": "https://localhost:8080/"
        },
        "id": "6aN02KIHteI4",
        "outputId": "f62e7853-f1c4-4e69-90f6-cce097a12583"
      },
      "execution_count": null,
      "outputs": [
        {
          "output_type": "stream",
          "name": "stdout",
          "text": [
            "9\n",
            "\n",
            "\n",
            "\n",
            "                   0                    \n",
            "                  010                   \n",
            "                 01210                  \n",
            "                0123210                 \n",
            "               012343210                \n",
            "              01234543210               \n",
            "             0123456543210              \n",
            "            012345676543210             \n",
            "           01234567876543210            \n",
            "          0123456789876543210           \n",
            "           01234567876543210            \n",
            "            012345676543210             \n",
            "             0123456543210              \n",
            "              01234543210               \n",
            "               012343210                \n",
            "                0123210                 \n",
            "                 01210                  \n",
            "                  010                   \n",
            "                   0                    \n",
            "\n",
            "\n",
            "\n"
          ]
        }
      ]
    },
    {
      "cell_type": "markdown",
      "source": [
        "9.\tให้เขียนโปรแกรมสร้างรูปสามเหลี่ยมที่วางซ้อนกัน 3 รูป โดยแต่ละรูปสร้างมาจากเครื่องหมาย \"*\" โดยกําหนดให้รับตัวเลขระดับของสามเหลี่ยมจากคีย์บอร์ด จากตัวอย่างข้างล่างนี้เป็นรูปสามเหลี่ยมระดับที่ 3 และ 4\n",
        "\n",
        "\n",
        "\n",
        "```\n",
        "              *\n",
        "\t\t     ***\n",
        "\t\t    *****\n",
        "\t\t   *     *\n",
        "\t      ***   ***\n",
        "\t     ***** *****\n",
        "\n",
        "  \t\t    *\n",
        "\t  \t   ***\n",
        "\t\t    *****\n",
        "\t\t   *******\n",
        "\t      *       *\n",
        "\t     ***     ***\n",
        "\t    *****   *****\n",
        "\t   ******* *******\n",
        "\n",
        "```\n",
        "\n"
      ],
      "metadata": {
        "id": "Po50A-Kuo5t4"
      }
    },
    {
      "cell_type": "code",
      "source": [
        "while 1:\n",
        "  level = str(input())\n",
        "  if not level.isdigit():\n",
        "    print('num only')\n",
        "    break\n",
        "\n",
        "  level = int(level)\n",
        "\n",
        "  width = 2 * level - 1\n",
        "\n",
        "  for i in range(1, level + 1):\n",
        "    stars = \"*\" * (2 * i - 1)\n",
        "    print(stars.center(2 * width + 2))\n",
        "\n",
        "  for i in range(1, level + 1):\n",
        "    stars = \"*\" * (2 * i - 1)\n",
        "    spaces = \" \" * (2 * (level - i) + 1)\n",
        "    print((stars + spaces + stars).center(2 * width + 2))\n",
        "\n",
        "  break"
      ],
      "metadata": {
        "id": "x9gw3Ur-_Wtk",
        "colab": {
          "base_uri": "https://localhost:8080/"
        },
        "outputId": "3a02ee2a-fae5-4a1c-e955-6b716bf937f0"
      },
      "execution_count": 19,
      "outputs": [
        {
          "output_type": "stream",
          "name": "stdout",
          "text": [
            "3\n",
            "     *      \n",
            "    ***     \n",
            "   *****    \n",
            "  *     *   \n",
            " ***   ***  \n",
            "***** ***** \n"
          ]
        }
      ]
    }
  ]
}