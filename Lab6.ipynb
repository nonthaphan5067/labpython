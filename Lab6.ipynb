{
  "nbformat": 4,
  "nbformat_minor": 0,
  "metadata": {
    "colab": {
      "provenance": []
    },
    "kernelspec": {
      "name": "python3",
      "display_name": "Python 3"
    },
    "language_info": {
      "name": "python"
    }
  },
  "cells": [
    {
      "cell_type": "markdown",
      "source": [
        "Ex. 6.1 ให้เขียนฟังก์ชันชื่อ test_ pangram เพื่อตรวจสอบว่า String ที่รับเข้ามาเป็น pangram หรือไม่ โดย pangram คือ string ที่ประกอบด้วยตัวอักษรทุกตัวในภาษาอังกฤษ (ต้องมีอักษรแต่ละตัวปรากฏอย่างน้อย 1 ครั้ง) เช่น\n",
        "The quick brown fox jumps over the lazy dog\n",
        "รับข้อมูลเป็น string และ return เป็น True หรือ False"
      ],
      "metadata": {
        "id": "g1jKRrPZdrD9"
      }
    },
    {
      "cell_type": "code",
      "execution_count": null,
      "metadata": {
        "colab": {
          "base_uri": "https://localhost:8080/"
        },
        "id": "oc_mt8z2dluv",
        "outputId": "d3c10667-807f-45a3-95a4-d9e9d30de2c5"
      },
      "outputs": [
        {
          "output_type": "stream",
          "name": "stdout",
          "text": [
            "True\n"
          ]
        }
      ],
      "source": [
        "def test_pangram(str1):\n",
        "  alphabets = \"abcdefghijklmnopqrstuvwxyz\"\n",
        "  str1 = str1.replace(\" \", \"\")\n",
        "\n",
        "  for c in str1:\n",
        "    if c.lower() not in alphabets:\n",
        "      return False\n",
        "\n",
        "  return True\n",
        "\n",
        "print(test_pangram(\"The quick brown fox jumps over the lazy dog\"))\n"
      ]
    },
    {
      "cell_type": "markdown",
      "source": [
        "Ex 6.2 จงเขียน โปรแกรมที่รวมผลลัพธ์ ของตัวเลขที่อยู่ใน List โดยกำหนดให้ฟังก์ชัน ชื่อ find_sum(n_list,n) โดย n_list เป็น List ของตัวเลขที่มีความยาว n โดยให้เขียนในแบบ Recursion\n"
      ],
      "metadata": {
        "id": "jsFdK2rreKku"
      }
    },
    {
      "cell_type": "code",
      "source": [
        "def find_sum(n_list,n):\n",
        "  if n == 0:\n",
        "    return 0\n",
        "\n",
        "  return n_list[0] + find_sum(n_list[1:], n - 1)\n",
        "\n",
        "print(find_sum([1,2,3,4,5,6,7,8,9,10],10))"
      ],
      "metadata": {
        "id": "SWhMgyAc0uSI",
        "colab": {
          "base_uri": "https://localhost:8080/"
        },
        "outputId": "c6eb9857-598a-44e8-a5e3-4dac8ce9dd0a"
      },
      "execution_count": null,
      "outputs": [
        {
          "output_type": "stream",
          "name": "stdout",
          "text": [
            "55\n"
          ]
        }
      ]
    },
    {
      "cell_type": "markdown",
      "source": [
        "Ex 6.3 กำหนดให้ List x เก็บ String และตัวแปร c เก็บตัวอักษร\n",
        "ให้สร้าง List d ที่เก็บจำนวนครั้งที่ตัวอักษรใน c ปรากฏในแต่ละ String ของ List x โดยใช้ List comprehension\n",
        "\n",
        "- เช่น x = [‘abba’, ‘babana’, ‘ann’]; c = ‘a’\n",
        "- จะได้ d = [2, 3, 1]\n",
        "\n",
        "ให้เขียนในฟังก์ชัน count_char_in_string(x,c) แล้ว return เป็น List คำตอบ"
      ],
      "metadata": {
        "id": "S9FRT-zz05-A"
      }
    },
    {
      "cell_type": "code",
      "source": [
        "def count_char_in_string(x,c):\n",
        "  return [w.count(c) for w in x]\n",
        "\n",
        "# count_char_in_string(['abba', 'babana', 'ann'],'a') => [2, 3, 1]\n",
        "print(count_char_in_string(['abba', 'babana', 'ann'],'a'))\n",
        "\n",
        "# count_char_in_string(['apple', 'banana', 'cherry'],'a') => [1, 3, 1]\n",
        "print(count_char_in_string(['apple', 'banana', 'cherry'],'a'))\n",
        "\n",
        "# count_char_in_string(['dog', 'cat', 'fish'],'z') => [0, 0, 0]\n",
        "print(count_char_in_string(['dog', 'cat', 'fish'],'z'))\n",
        "\n",
        "# count_char_in_string(['abc', 'bcb', 'cab'],'b') => [1, 2, 1]\n",
        "print(count_char_in_string(['abc', 'bcb', 'cab'],'b'))\n",
        "\n",
        "# count_char_in_string(['', 'a', ''],'a') => [0, 1, 0]\n",
        "print(count_char_in_string(['', 'a', ''],'a'))\n",
        "\n",
        "# count_char_in_string(['@home', '#hash', 'space '],'#') => [0, 1, 0]\n",
        "print(count_char_in_string(['@home', '#hash', 'space '],'#'))"
      ],
      "metadata": {
        "id": "yQZQFVa01JPs",
        "colab": {
          "base_uri": "https://localhost:8080/"
        },
        "outputId": "93f93662-ff4e-4aa4-a54f-da0f0f2599bf"
      },
      "execution_count": null,
      "outputs": [
        {
          "output_type": "stream",
          "name": "stdout",
          "text": [
            "[2, 3, 1]\n",
            "[1, 3, 0]\n",
            "[0, 0, 0]\n",
            "[1, 2, 1]\n",
            "[0, 1, 0]\n",
            "[0, 1, 0]\n"
          ]
        }
      ]
    },
    {
      "cell_type": "markdown",
      "source": [
        "Ex 6.4  กำหนดให้ List x เป็น List ของจำนวนเต็ม\n",
        "ให้เขียนโปรแกรมเพื่อลบจำนวนเต็มทุกตัวใน x ที่มีค่าเป็นลบ โดยใช้ List comprehension\n",
        "\n",
        "- เช่น x = [ [1, -3, 2], [-8, 5], [-1, -4, -3] ]\n",
        "- ได้คำตอบเป็น [ [1, 2], [5], [] ]\n",
        "\n",
        "ให้เขียนในฟังก์ชัน delete_minus(x) แล้ว return เป็น List คำตอบ\n",
        "Hint : ถ้าคิดไม่ออกให้ทดลองเขียนแบบปกติก่อน แล้วค่อยลดรูป\n"
      ],
      "metadata": {
        "id": "vRtEJLkP5MLT"
      }
    },
    {
      "cell_type": "code",
      "source": [
        "def delete_minus(x):\n",
        "  result = []\n",
        "  for n in x:\n",
        "    result.append([num for num in n if num > 0])\n",
        "\n",
        "  return result\n",
        "\n",
        "# delete_minus([[1, -3, 2], [-8, 5], [-1, -4, -3]]) => [[1, 2], [5], []]\n",
        "print(delete_minus([[1, -3, 2], [-8, 5], [-1, -4, -3]]))\n",
        "\n",
        "# delete_minus([[0, -1, -2], [3, 4, -5], [-6, 7]]) => [[0], [3, 4], [7]]\n",
        "print(delete_minus([[0, -1, -2], [3, 4, -5], [-6, 7]]))\n",
        "\n",
        "# delete_minus([[10, -10, 20], [-30, 30], [40, -40]]) => [[10, 20], [30], [40]]\n",
        "print(delete_minus([[10, -10, 20], [-30, 30], [40, -40]]))\n",
        "\n",
        "# delete_minus([[1, 2, 3], [4, 5], [6]]) => [[1, 2, 3], [4, 5], [6]]\n",
        "print(delete_minus([[1, 2, 3], [4, 5], [6]]))\n",
        "\n",
        "# delete_minus([[-1, -2, -3], [-4, -5], [-6]]) => [[], [], []]\n",
        "print(delete_minus([[-1, -2, -3], [-4, -5], [-6]]))\n",
        "\n",
        "# delete_minus([[-10, -20, -30], [-40, -50], [-60]]) => [[], [], []]\n",
        "print(delete_minus([[-10, -20, -30], [-40, -50], [-60]]))"
      ],
      "metadata": {
        "id": "SDA5CALo5WPK",
        "colab": {
          "base_uri": "https://localhost:8080/"
        },
        "outputId": "b2fe8daf-19a8-40b4-e5ea-9328a47cf09d"
      },
      "execution_count": null,
      "outputs": [
        {
          "output_type": "stream",
          "name": "stdout",
          "text": [
            "[[1, 2], [5], []]\n",
            "[[], [3, 4], [7]]\n",
            "[[10, 20], [30], [40]]\n",
            "[[1, 2, 3], [4, 5], [6]]\n",
            "[[], [], []]\n",
            "[[], [], []]\n"
          ]
        }
      ]
    },
    {
      "cell_type": "markdown",
      "source": [
        "Ex 6.5 ให้เขียนโปรแกรมเพื่อรับข้อมูล 1 บรรทัด ที่ประกอบด้วยจำนวนเต็มหลายจำนวน (คั่นด้วยช่องว่าง)\n",
        "ให้ส่งคืนว่ามีจำนวนที่เป็นลบกี่จำนวน โดยใช้ List comprehension\n",
        "ให้เขียนในฟังก์ชัน count_minus(str) แล้ว return เป็นคำตอบ"
      ],
      "metadata": {
        "id": "nLUpu-7v6MCa"
      }
    },
    {
      "cell_type": "code",
      "source": [
        "def count_minus(str1):\n",
        "  str1 = str1.split(\" \")\n",
        "\n",
        "  def is_minus(num):\n",
        "    num = str(num)\n",
        "    if num == '0' or num == '-0':\n",
        "      return False\n",
        "\n",
        "    if num.isdigit():\n",
        "      return False\n",
        "\n",
        "    num = int(num)\n",
        "    if num > 0:\n",
        "      return False\n",
        "\n",
        "    return True\n",
        "\n",
        "  return len([n for n in str1 if is_minus(n)])\n",
        "\n",
        "# count_minus(\"1 2 -3 4 -5\") => 2\n",
        "print(count_minus(\"1 2 -3 4 -5\"))\n",
        "# count_minus(\"-1 -2 -3 -4 -5\") => 5\n",
        "# count_minus(\"1 2 3 4 5\") => 0\n",
        "print(count_minus(\"1 2 3 4 5\"))\n",
        "# count_minus(\"0 0 0 0 0\") => 0\n",
        "print(count_minus(\"0 0 0 0 0\"))\n",
        "# count_minus(\"-10 -20 -30 -40 -50\") => 5"
      ],
      "metadata": {
        "id": "BO0JESLu9cVj",
        "colab": {
          "base_uri": "https://localhost:8080/"
        },
        "outputId": "470ca3c1-b65a-4540-de21-152df908d92c"
      },
      "execution_count": null,
      "outputs": [
        {
          "output_type": "stream",
          "name": "stdout",
          "text": [
            "2\n",
            "0\n",
            "0\n"
          ]
        }
      ]
    },
    {
      "cell_type": "markdown",
      "source": [
        "Ex 6.6 ให้เขียนโปรแกรมเพื่อรับ string 1 ตัว\n",
        "ให้ส่งคืนเฉพาะตัวอักษรที่เป็นภาษาอังกฤษ โดยใช้ List comprehension\n",
        "ให้เขียนในฟังก์ชัน only_english(string1) แล้ว return เป็นคำตอบเป็น string"
      ],
      "metadata": {
        "id": "18YUhkQ96Fiw"
      }
    },
    {
      "cell_type": "code",
      "source": [
        "def only_english(string1):\n",
        "  def is_english(c):\n",
        "    alphabets = \"abcdefghijklmnopqrstuvwxyzABCDEFGHIJKLMNOPQRSTUVWXYZ \"\n",
        "    return c in alphabets\n",
        "\n",
        "  return \"\".join([c for c in string1 if is_english(c)])\n",
        "\n",
        "# only_english(\"Hello, World!\") => \"Hello World\"\n",
        "print(only_english(\"Hello, World!\"))\n",
        "# only_english(\"This is a test.\") => \"This is a test\"\n",
        "print(only_english(\"This is a test.\"))\n",
        "print(only_english(\"12345\"))\n",
        "# only_english(\"abcABC123\") => \"abcABC\"\n",
        "print(only_english(\"abcABC123\"))\n",
        "# only_english(\"!@#$%^&*()\") => \"\""
      ],
      "metadata": {
        "id": "QM_Vbz-k9shU",
        "colab": {
          "base_uri": "https://localhost:8080/"
        },
        "outputId": "4ea7fb7e-c87a-4ef4-9939-7e3b812ac2b0"
      },
      "execution_count": null,
      "outputs": [
        {
          "output_type": "stream",
          "name": "stdout",
          "text": [
            "Hello World\n",
            "This is a test\n",
            "\n",
            "abcABC\n"
          ]
        }
      ]
    },
    {
      "cell_type": "markdown",
      "source": [
        "Ex 6.7 กำหนดให้ list x และ y เป็น list ของจำนวนเต็ม โดยมีขนาดเท่ากัน\n",
        "ให้ return list ที่เป็นผลบวกของ list x และ y โดยใช้ list comprehension\n",
        "เขียนให้ function ชื่อ add2list(lst1,lst2)\n",
        "\n",
        "\n"
      ],
      "metadata": {
        "id": "S5dKtu4o96b-"
      }
    },
    {
      "cell_type": "code",
      "source": [
        "def add2list(lst1,lst2):\n",
        "  if len(lst1) != len(lst2):\n",
        "    return []\n",
        "\n",
        "  return [lst1[i] + lst2[i] for i in range(len(lst1))]\n",
        "\n",
        "# add2list([1, 2, 3], [4, 5, 6]) => [5, 7, 9]\n",
        "print(add2list([1, 2, 3], [4, 5, 6]))\n",
        "\n",
        "# add2list([-1, -2, -3], [1, 2, 3]) => [0, 0, 0]\n",
        "print(add2list([-1, -2, -3], [1, 2, 3]))\n",
        "\n",
        "# add2list([0, 0, 0], [10, 20, 30]) => [10, 20, 30]\n",
        "print(add2list([0, 0, 0], [10, 20, 30]))\n",
        "\n",
        "# add2list([7, 8, 9], [3, 2, 1]) => [10, 10, 10]\n",
        "print(add2list([7, 8, 9], [3, 2, 1]))\n",
        "\n",
        "# add2list([100, 200, 300], [400, 500, 600]) => [500, 700, 900]\n",
        "print(add2list([100, 200, 300], [400, 500, 600]))\n",
        "\n",
        "# add2list([1, 2, 3, 4, 5], [6, 7, 8, 9, 10]) => [7, 9, 11, 13, 15]\n",
        "print(add2list([1, 2, 3, 4, 5], [6, 7, 8, 9, 10]))\n"
      ],
      "metadata": {
        "id": "L18pzqF5-AtR",
        "colab": {
          "base_uri": "https://localhost:8080/"
        },
        "outputId": "3b15e44c-1327-4a52-974e-a6a0fd830388"
      },
      "execution_count": null,
      "outputs": [
        {
          "output_type": "stream",
          "name": "stdout",
          "text": [
            "[5, 7, 9]\n",
            "[0, 0, 0]\n",
            "[10, 20, 30]\n",
            "[10, 10, 10]\n",
            "[500, 700, 900]\n",
            "[7, 9, 11, 13, 15]\n"
          ]
        }
      ]
    },
    {
      "cell_type": "markdown",
      "source": [
        "1.\tกำหนดให้ m เป็น list ของ list ของ Integer ให้แปลง m ให้เป็น list ของ integer โดยใช้ List Comprehension โดยให้เขียนเป็น ฟังก์ชัน ชื่อ flatten_list(lst) และ return เป็น list คำตอบ\n",
        "- Input : [ [1, 2, 3], [4, 5, 6] ]\n",
        "- Output : [1, 2, 3, 4, 5, 6]\n"
      ],
      "metadata": {
        "id": "5HpBdNsU-4SW"
      }
    },
    {
      "cell_type": "code",
      "source": [
        "def flatten_list(lst):\n",
        "  return [item for row in lst for item in row]\n",
        "\n",
        "# flatten_list([[1, 2, 3], [4, 5, 6]]) => [1, 2, 3, 4, 5, 6]\n",
        "print(flatten_list([[1, 2, 3], [4, 5, 6]]))\n",
        "# flatten_list([[7, 8], [9, 10], [11, 12]]) => [7, 8, 9, 10, 11, 12]\n",
        "# flatten_list([[0], [1], [2], [3]]) => [0, 1, 2, 3]\n",
        "# flatten_list([[1, 1, 1], [2, 2], [3]]) => [1, 1, 1, 2, 2, 3]\n",
        "print(flatten_list([[1, 1, 1], [2, 2], [3]]))\n",
        "# flatten_list([[5, 6, 7], [8], [9, 10]]) => [5, 6, 7, 8, 9, 10]\n"
      ],
      "metadata": {
        "id": "nfKGEY7d--zX",
        "colab": {
          "base_uri": "https://localhost:8080/"
        },
        "outputId": "020082aa-a493-4fc3-f901-8806df1433e1"
      },
      "execution_count": null,
      "outputs": [
        {
          "output_type": "stream",
          "name": "stdout",
          "text": [
            "[1, 2, 3, 4, 5, 6]\n",
            "[1, 1, 1, 2, 2, 3]\n"
          ]
        }
      ]
    },
    {
      "cell_type": "markdown",
      "source": [
        "2.\tกำหนดให้ s เป็น list ของ Integer ให้เขียนโปรแกรม ตัดตัวเลขที่ซ้ำกันใน list ให้เหลือเพียงตัวเลขเดียว โดยใช้ list comprehension (ห้ามใช้ set) โดยมีขั้นตอนดังนี้\n",
        "-\tเรียงลำดับข้อมูลใน list\n",
        "-\tสร้าง list ใหม่ โดยนำข้อมูลใน list ตัวที่ติดกันมาพิจารณาจากซ้ายไปขวา หากค่าไม่เท่ากันให้นำไปใส่ใน list ใหม่\n",
        "-\tนำตัวขวาสุด (ตัวสุดท้าย) เพิ่มเข้าไปใน list ใหม่ ก็จะได้ s ที่ไม่มีตัวซ้ำ\n",
        "-\tโดยให้เขียนเป็นฟังก์ชัน ชื่อ remove_duplicate(s)\n",
        "\n",
        "- Input : [1, 2, 3, 3, 4, 5, 6]\n",
        "- Output : [1, 2, 3, 4, 5, 6]\n",
        "\n",
        "ห้ามใช้ sort"
      ],
      "metadata": {
        "id": "_FXeyEnm_y8X"
      }
    },
    {
      "cell_type": "code",
      "source": [
        "def remove_duplicate(s):\n",
        "  lst = [i for n, i in enumerate(s) if i not in s[:n]]\n",
        "\n",
        "  for i in range(len(lst)):\n",
        "    for j in range(len(lst)-i-1):\n",
        "      if lst[j] > lst[j+1]:\n",
        "        lst[j], lst[j+1] = lst[j+1], lst[j]\n",
        "\n",
        "  return lst\n",
        "\n",
        "print(remove_duplicate([1, 2, 3, 3, 4, 5, 6]))\n",
        "# remove_duplicate([5, 1, 3, 3, 2, 5, 1]) => [1, 2, 3, 5]\n",
        "print(remove_duplicate([5, 1, 3, 3, 2, 5, 1]))\n",
        "# remove_duplicate([7, 7, 8, 8, 8, 9]) => [7, 8, 9]\n",
        "print(remove_duplicate([7, 7, 8, 8, 8, 9]))\n",
        "# remove_duplicate([10, 10, 10, 10]) => [10]\n",
        "print(remove_duplicate([10, 10, 10, 10]))\n",
        "# remove_duplicate([1, 2, 2, 3, 4, 4, 4, 5]) => [1, 2, 3, 4, 5]\n",
        "print(remove_duplicate([1, 2, 2, 3, 4, 4, 4, 5]))\n"
      ],
      "metadata": {
        "id": "iH8ceRWJ_5wq",
        "colab": {
          "base_uri": "https://localhost:8080/"
        },
        "outputId": "29e0941e-3bac-4224-ab9c-14c2e9a2f92e"
      },
      "execution_count": null,
      "outputs": [
        {
          "output_type": "stream",
          "name": "stdout",
          "text": [
            "[1, 2, 3, 4, 5, 6]\n",
            "[1, 2, 3, 5]\n",
            "[7, 8, 9]\n",
            "[10]\n",
            "[1, 2, 3, 4, 5]\n"
          ]
        }
      ]
    },
    {
      "cell_type": "markdown",
      "source": [
        "3.\tกำหนดให้มี 2 list คือ lst1 และ lst2 ให้ค้นหาสมาชิกที่มีในทั้ง 2 list โดยใช้ list comprehension\n",
        "(ห้ามใช้ set) โดยให้เขียนเป็นฟังก์ชันชื่อ common_member(lst1, lst2) โดย return เป็น list ที่มีสมาชิกทั้ง 2 list\n",
        "- Input : lst1 = [1, 2, 4, 5, 6] lst2 = [2, 3, 4]\n",
        "- Output : [2, 4]\n"
      ],
      "metadata": {
        "id": "f9smt54DAyYU"
      }
    },
    {
      "cell_type": "code",
      "source": [
        "def common_member(lst1, lst2):\n",
        "  return [n for n in lst1 if n in lst2]\n",
        "\n",
        "# common_member([1, 2, 4, 5, 6], [2, 3, 4]) => [2, 4]\n",
        "print(common_member([1, 2, 4, 5, 6], [2, 3, 4]))\n",
        "# common_member([1, 2, 3, 4, 5], [6, 7, 8]) => []\n",
        "print(common_member([1, 2, 3, 4, 5], [6, 7, 8]))\n",
        "# common_member([1, 2, 3, 4, 5], [1, 2, 3, 4, 5]) => [1, 2, 3, 4, 5]\n",
        "print(common_member([1, 2, 3, 4, 5], [1, 2, 3, 4, 5]))\n",
        "# common_member([1, 2, 3, 4, 5], [5, 4, 3, 2, 1]) => [1, 2, 3, 4, 5]\n",
        "print(common_member([1, 2, 3, 4, 5], [5, 4, 3, 2, 1]))\n",
        "# common_member([1, 2, 3, 4, 5], [6, 7, 8, 9, 10]) => []\n",
        "print(common_member([1, 2, 3, 4, 5], [6, 7, 8, 9, 10]))\n"
      ],
      "metadata": {
        "id": "3K2MCpiWA-tX",
        "colab": {
          "base_uri": "https://localhost:8080/"
        },
        "outputId": "2cf942a0-9aef-4947-b604-2425d70e3683"
      },
      "execution_count": null,
      "outputs": [
        {
          "output_type": "stream",
          "name": "stdout",
          "text": [
            "[2, 4]\n",
            "[]\n",
            "[1, 2, 3, 4, 5]\n",
            "[1, 2, 3, 4, 5]\n",
            "[]\n"
          ]
        }
      ]
    },
    {
      "cell_type": "markdown",
      "source": [
        "4.\tกำหนดให้ s เป็น String ให้เขียนโปรแกรมโดยใช้ List comprehension โดยให้ตัดตัวอักษรภาษาอังกฤษที่เป็นสระ a, e, i, o, u ออกจากประโยคให้หมด เช่น\n",
        "\n",
        "- Input : “common_member” จะได้ Output เป็น “cmmn mmbr”\n",
        "\n"
      ],
      "metadata": {
        "id": "V71CdsnEBWu8"
      }
    },
    {
      "cell_type": "code",
      "source": [
        "def remove_vowels(s):\n",
        "  def is_vowel(c):\n",
        "    vowels = \"aeiou\"\n",
        "\n",
        "    if c not in vowels:\n",
        "      return False\n",
        "\n",
        "    return True\n",
        "\n",
        "  def space_to_whitespace(c):\n",
        "    if c == \"_\":\n",
        "      return \" \"\n",
        "\n",
        "    if c == \" \":\n",
        "      return \" \"\n",
        "\n",
        "    return c\n",
        "\n",
        "  s = list(s)\n",
        "  return \"\".join([space_to_whitespace(l) for l in s if not is_vowel(l)])\n",
        "\n",
        "# remove_vowels(\"common_member\") => \"cmmn mmbr\"\n",
        "print(remove_vowels(\"common_member\"))\n",
        "# remove_vowels(\"hello world\") => \"hll wrld\"\n",
        "print(remove_vowels(\"hello world\"))\n",
        "# remove_vowels(\"aeiou\") => \"\"\n",
        "print(remove_vowels(\"aeiou\"))\n",
        "# remove_vowels(\"qwertyuiop\") => \"qwert\n",
        "print(remove_vowels(\"qwertyuiop\"))\n",
        "# remove_vowels(\"abcdefghijklmnopqrstuvwxyz\") => \"bcdfghjklmnp\n",
        "print(remove_vowels(\"abcdefghijklmnopqrstuvwxyz\"))"
      ],
      "metadata": {
        "id": "UNjxlDMqBcSz",
        "colab": {
          "base_uri": "https://localhost:8080/"
        },
        "outputId": "cbd48ef5-1ddf-4740-a881-d6df37e60496"
      },
      "execution_count": null,
      "outputs": [
        {
          "output_type": "stream",
          "name": "stdout",
          "text": [
            "cmmn mmbr\n",
            "hll wrld\n",
            "\n",
            "qwrtyp\n",
            "bcdfghjklmnpqrstvwxyz\n"
          ]
        }
      ]
    },
    {
      "cell_type": "markdown",
      "source": [
        "5.\tให้เขียนโปรแกรมรับ list ของจำนวนเต็มชุดหนึ่ง โดย list นี้จะมีสมาชิกพิเศษอยู่ที่ตัวสุดท้าย ซึ่งจะมีค่าเป็นลบเสมอ (สมาชิกตัวอื่นเป็นบวกหรือลบก็ได้) ให้สร้าง list ใหม่ที่เกิดจากสมาชิกทุกตัว (ยกเว้นตัวสุดท้าย) ลบด้วยสมาชิกตัวสุดท้าย\n",
        "- Input : [1, 10, 2, -5]\n",
        "- Output: [-4, 5, -3]\n",
        "- Input : [100, 0, -1]\n",
        "- Output: [99, -1]\n",
        "- Input : [3, -3]\n",
        "\n"
      ],
      "metadata": {
        "id": "Zo07ebrTBjgA"
      }
    },
    {
      "cell_type": "code",
      "source": [
        "def remove_last_element(lst):\n",
        "  last_member = lst[-1]\n",
        "  lst.pop()\n",
        "\n",
        "  return [int(c) + last_member for c in lst]\n",
        "\n",
        "# remove_last_element([1, 10, 2, -5]) => [-4, 5, -3]\n",
        "print(remove_last_element([1, 10, 2, -5]))\n",
        "# remove_last_element([100, 0, -1]) => [99, -1]\n",
        "print(remove_last_element([100, 0, -1]))\n",
        "# remove_last_element([3, -3]) => [0]\n",
        "print(remove_last_element([3, -3]))\n",
        "\n"
      ],
      "metadata": {
        "id": "cSSMJX5fBi8-",
        "colab": {
          "base_uri": "https://localhost:8080/"
        },
        "outputId": "6af96fcc-0481-4e1a-ff1a-5c6ec091e7d9"
      },
      "execution_count": null,
      "outputs": [
        {
          "output_type": "stream",
          "name": "stdout",
          "text": [
            "[-4, 5, -3]\n",
            "[99, -1]\n",
            "[0]\n"
          ]
        }
      ]
    },
    {
      "cell_type": "markdown",
      "source": [
        "6.\tกำหนดให้ s เป็น String ให้เขียนโปรแกรมเพื่อหา คำ ที่มีความยาวน้อยกว่า 5 ตัวอักษร โดยใช้ list comprehension\n",
        "- Input : “A total of 16 playable characters!”\n",
        "- Output : “A total of 16”\n",
        "\n"
      ],
      "metadata": {
        "id": "kguZ7w78CP0W"
      }
    },
    {
      "cell_type": "code",
      "source": [
        "def find_short_words(s):\n",
        "  s = s.split(\" \")\n",
        "  return \" \".join([word for word in s if len(word) < 5])\n",
        "\n",
        "# find_short_words(\"A total of 16 playable characters!\") => \"A total of 16\"\n",
        "print(find_short_words(\"A total of 16 playable characters!\"))\n",
        "# find_short_words(\"The quick brown fox jumps over the lazy dog\") => \"The fox over the dog\"\n",
        "print(find_short_words(\"The quick brown fox jumps over the lazy dog\"))\n",
        "# find_short_words(\"Python is a great programming language\") => \"is a\"\n",
        "print(find_short_words(\"Python is a great programming language\"))\n",
        "# find_short_words(\"Short words are kept short and long words are ignored\") => \"are kept and are\"\n",
        "print(find_short_words(\"Short words are kept short and long words are ignored\"))\n"
      ],
      "metadata": {
        "id": "IN6wcH_WCVJv",
        "colab": {
          "base_uri": "https://localhost:8080/"
        },
        "outputId": "ad05a553-7a5d-4ba4-bd6b-880039d5e6cd"
      },
      "execution_count": null,
      "outputs": [
        {
          "output_type": "stream",
          "name": "stdout",
          "text": [
            "A of 16\n",
            "The fox over the lazy dog\n",
            "is a\n",
            "are kept and long are\n"
          ]
        }
      ]
    },
    {
      "cell_type": "markdown",
      "source": [
        "7.\tให้เขียนโปรแกรมเพื่อคำนวณหา rank ของรหัสนักศึกษาที่กำหนด โดยให้เรียงตามคะแนน โดย rank = 1 คือ มีคะแนนสูงสุด โดยใช้ list comprehension\n",
        "กำหนดให้มีข้อมูล s_score มีตัวอย่างดังนี้\n",
        "\n",
        "s_score = [\t[‘65015001’, 87.25],\n",
        "\t\t[‘65015002’, 77.00],\n",
        "\t\t[‘65015003’, 82.50],\n",
        "\t\t[‘65015004’, 69.75],\n",
        "\t\t[‘65015005’, 66.00]  ]\n",
        "    \n",
        "ให้เขียนฟังก์ชัน find_rank( s_score, stu_id ) โดย s_score เป็น list ของคะแนน และ std_id เป็นรหัสนักศึกษาที่ต้องการหา rank\n",
        "เช่น find_rank ( s_score, ‘65015004’) จะ return 4 เพราะมีคะแนนเป็นอันดับ 4\n"
      ],
      "metadata": {
        "id": "yioC3udBDK3M"
      }
    },
    {
      "cell_type": "code",
      "source": [
        "def find_rank(s_score, stu_id):\n",
        "  l = len(s_score)\n",
        "\n",
        "  for i in range(0, l):\n",
        "    for j in range(0, l-i-1):\n",
        "      if (s_score[j][1] < s_score[j + 1][1]):\n",
        "        tmp = s_score[j]\n",
        "        s_score[j] = s_score[j + 1]\n",
        "        s_score[j + 1] = tmp\n",
        "\n",
        "  stu_id_list = [stu_id[0] for stu_id in s_score]\n",
        "\n",
        "  # print(stu_id, s_score)\n",
        "  return stu_id_list.index(stu_id) + 1\n",
        "\n",
        "s_score = [[\"65015001\", 87.25], [\"65015002\", 77.00], ['65015003', 82.50], [\"65015004\", 69.75], [\"65015005\", 66.00]]\n",
        "print(find_rank(s_score, '65015004'))  # Output: 4\n",
        "\n",
        "# Test Case 2\n",
        "s_score = [['65015001', 90.00], ['65015002', 80.00], ['65015003', 85.00], ['65015004', 70.00], ['65015005', 60.00]]\n",
        "print(find_rank(s_score, '65015002'))  # Output: 2\n",
        "\n",
        "# Test Case 3\n",
        "s_score = [['65015001', 95.00], ['65015002', 95.00], ['65015003', 90.00], ['65015004', 85.00], ['65015005', 80.00]]\n",
        "print(find_rank(s_score, '65015001'))  # Output: 1\n",
        "\n",
        "# Test Case 4\n",
        "s_score = [['65015001', 50.00], ['65015002', 60.00], ['65015003', 70.00], ['65015004', 80.00], ['65015005', 90.00]]\n",
        "print(find_rank(s_score, '65015005'))  # Output: 1\n",
        "\n",
        "# Test Case 5\n",
        "s_score = [['65015001', 55.00], ['65015002', 65.00], ['65015003', 75.00], ['65015004', 85.00], ['65015005', 95.00]]\n",
        "print(find_rank(s_score, '65015003'))  # Output: 3\n",
        "\n"
      ],
      "metadata": {
        "id": "72EkAIBjDTO_",
        "colab": {
          "base_uri": "https://localhost:8080/"
        },
        "outputId": "b7a821d2-5d94-40d6-8be3-876f2ca08764"
      },
      "execution_count": null,
      "outputs": [
        {
          "output_type": "stream",
          "name": "stdout",
          "text": [
            "4\n",
            "3\n",
            "1\n",
            "1\n",
            "3\n"
          ]
        }
      ]
    },
    {
      "cell_type": "markdown",
      "source": [
        "8.\tให้เขียนโปรแกรม เพื่อหาข้อมูลที่มีความถี่มากกว่าครึ่งหนึ่งของจำนวนข้อมูลที่รับเข้ามา แต่ถ้าไม่พบให้แสดง Not found โดยใช้ list comprehension\n",
        "\n",
        "- เช่น \t[4, 5, 5, 10] ได้ผลลัพธ์เป็น Not found\n",
        "-\t[4, 5, 5] ได้ผลลัพธ์เป็น 5\n",
        "-\t[10, 5, 5, 3, 5] ได้ผลลัพธ์เป็น 5\n",
        "-\t[2, 4, 2, 4, 2, 4] ได้ผลลัพธ์เป็น Not found\n",
        "\n",
        "ให้เขียนเป็นฟังก์ชัน ชื่อ more_than_half(n_list) โดย n_list เป็นข้อมูลนำเข้า และ return เป็นผลลัพธ์ หรือ Not found\n"
      ],
      "metadata": {
        "id": "oJGkdpmfEH2e"
      }
    },
    {
      "cell_type": "code",
      "source": [
        "def more_than_half(n_list):\n",
        "  n_list_filter = [n for n in n_list if n_list.count(n) >= len(n_list) / 2 and len(n_list) % 2 == 1]\n",
        "\n",
        "  if len(n_list_filter) == 0:\n",
        "    return 'Not found'\n",
        "\n",
        "  return n_list_filter[0]\n",
        "\n",
        "# more_than_half([4, 5, 5, 10]) => \"Not found\"\n",
        "print(more_than_half([4, 5, 5, 10]))\n",
        "\n",
        "# more_than_half([4, 5, 5]) => 5\n",
        "print(more_than_half([4, 5, 5]))\n",
        "\n",
        "# more_than_half([10, 5, 5, 3, 5]) => 5\n",
        "print(more_than_half([10, 5, 5, 3, 5]))\n",
        "\n",
        "# more_than_half([2, 4, 2, 4, 2, 4]) => \"Not found\"\n",
        "print(more_than_half([2, 4, 2, 4, 2, 4]))\n"
      ],
      "metadata": {
        "id": "ahXL6sfbEQUQ",
        "colab": {
          "base_uri": "https://localhost:8080/"
        },
        "outputId": "9402b236-5aae-4f23-8693-cce6d0ef576e"
      },
      "execution_count": null,
      "outputs": [
        {
          "output_type": "stream",
          "name": "stdout",
          "text": [
            "Not found\n",
            "5\n",
            "5\n",
            "Not found\n"
          ]
        }
      ]
    },
    {
      "cell_type": "markdown",
      "source": [
        "9.\tจงเขียนโปรแกรมในแบบ recursion เพื่อกลับ String เช่น\n",
        "- Input : 'desserts'\n",
        "- Output : 'stressed'\n"
      ],
      "metadata": {
        "id": "0oTFJs2PEkL5"
      }
    },
    {
      "cell_type": "code",
      "source": [
        "def str_reverse(s):\n",
        "  if s == \"\":\n",
        "    return s\n",
        "\n",
        "  return str_reverse(s[1:]) + s[0]\n",
        "\n",
        "print(str_reverse(\"desserts\"))"
      ],
      "metadata": {
        "id": "_h5KwR9WEo7e",
        "colab": {
          "base_uri": "https://localhost:8080/"
        },
        "outputId": "e0592a1d-6b02-4786-93b0-a11316be0e4c"
      },
      "execution_count": null,
      "outputs": [
        {
          "output_type": "stream",
          "name": "stdout",
          "text": [
            "stressed\n"
          ]
        }
      ]
    }
  ]
}